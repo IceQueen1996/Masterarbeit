{
 "cells": [
  {
   "cell_type": "code",
   "execution_count": 1,
   "metadata": {},
   "outputs": [],
   "source": [
    "import pandas as pd\n",
    "from matplotlib import pyplot as plt"
   ]
  },
  {
   "cell_type": "code",
   "execution_count": 2,
   "metadata": {},
   "outputs": [],
   "source": [
    "path = 'C:\\\\Users\\\\Elly\\\\Dropbox\\\\Biotronik\\\\data\\\\200603 C1503 BIOSOLVE-IV - csv datasets'\n",
    "ae_data = pd.read_csv('{}/{}.csv'.format(path, \"AE\"))\n",
    "enrol = pd.read_csv('{}/{}.csv'.format(path, \"ENROL\"))"
   ]
  },
  {
   "cell_type": "code",
   "execution_count": 3,
   "metadata": {},
   "outputs": [
    {
     "name": "stdout",
     "output_type": "stream",
     "text": [
      "Number of patients with TLF: 116\n",
      "Number of occured TLF events: 126\n",
      "5.84% of all patients (n=1985) have suffered from TLF\n"
     ]
    }
   ],
   "source": [
    "# find patients with TLF\n",
    "tlf = ae_data[\n",
    "            ((ae_data[\"aedth\"] == \"YES\") | (ae_data[\"aedthcs\"] == \"Cardiac\")) |\n",
    "            (ae_data[\"aecabg\"] == \"YES\") |\n",
    "            ((ae_data[\"aerevasc\"] == \"Target lesion revascularization\") & (ae_data[\"aerevasccld\"] == \"Yes\")) | \n",
    "            (((ae_data[\"aemiehdef\"] == \"YES\") | (ae_data[\"aemiscaidef\"] == \"YES\")) & (ae_data[\"aemibytv\"] == \"YES\"))\n",
    "        ]\n",
    "\n",
    "# first statistics about primary endpoint TLF\n",
    "patient_count = len(set(tlf[\"subjid\"]))\n",
    "tlf_count = len(tlf[\"subjid\"])\n",
    "tlf_ratio = round((patient_count/len(enrol[\"subjid\"]))*100,2)\n",
    "\n",
    "print(\"Number of patients with TLF: \" + str(patient_count))\n",
    "print(\"Number of occured TLF events: \" + str(tlf_count))\n",
    "print(str(tlf_ratio) + \"% of all patients (n=\"+ str(len(enrol[\"subjid\"])) + \") have suffered from TLF\")\n"
   ]
  },
  {
   "cell_type": "code",
   "execution_count": 4,
   "metadata": {},
   "outputs": [],
   "source": [
    "# get patients with and without TLF event\n",
    "subj_with_tlf = list(set(tlf[\"subjid\"]))\n",
    "subj_no_tlf = list(set(enrol[\"subjid\"]) - set(subj_with_tlf))"
   ]
  },
  {
   "cell_type": "code",
   "execution_count": null,
   "metadata": {},
   "outputs": [],
   "source": []
  }
 ],
 "metadata": {
  "kernelspec": {
   "display_name": "Python 3",
   "language": "python",
   "name": "python3"
  },
  "language_info": {
   "codemirror_mode": {
    "name": "ipython",
    "version": 3
   },
   "file_extension": ".py",
   "mimetype": "text/x-python",
   "name": "python",
   "nbconvert_exporter": "python",
   "pygments_lexer": "ipython3",
   "version": "3.7.1"
  }
 },
 "nbformat": 4,
 "nbformat_minor": 4
}
