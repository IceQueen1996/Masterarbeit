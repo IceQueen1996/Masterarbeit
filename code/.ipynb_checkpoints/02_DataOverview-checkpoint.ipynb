{
 "cells": [
  {
   "cell_type": "markdown",
   "metadata": {},
   "source": [
    "# Statistical Analysis - Result\n"
   ]
  },
  {
   "cell_type": "code",
   "execution_count": 248,
   "metadata": {},
   "outputs": [],
   "source": [
    "import pandas as pd\n",
    "import numpy as np\n",
    "from matplotlib import pyplot as plt\n",
    "from collections import Counter"
   ]
  },
  {
   "cell_type": "markdown",
   "metadata": {},
   "source": [
    "### Data Processing\n",
    "Read all nescessary data for statistical analysis."
   ]
  },
  {
   "cell_type": "code",
   "execution_count": 201,
   "metadata": {},
   "outputs": [],
   "source": [
    "# read all nescessary data\n",
    "path = 'C:\\\\Users\\\\Elly\\\\Dropbox\\\\Biotronik\\\\data\\\\200603 C1503 BIOSOLVE-IV - csv datasets'\n",
    "# read enrolment details\n",
    "enrol = pd.read_csv('{}/{}.csv'.format(path, \"ENROL\"))\n",
    "# read medical history and risk factors\n",
    "mhrf = pd.read_csv('{}/{}.csv'.format(path, \"MHRF\"))\n",
    "# read procudure information\n",
    "proc = pd.read_csv('{}/{}.csv'.format(path, \"PROC\"))\n",
    "# read lesion characterisation and procedure details\n",
    "lc = pd.read_csv('{}/{}.csv'.format(path, \"LC\"))\n",
    "# read pre-dilatation balloon details\n",
    "prebn = pd.read_csv('{}/{}.csv'.format(path, \"PREBN\"))\n",
    "# read magmaris details\n",
    "device = pd.read_csv('{}/{}.csv'.format(path, \"DEVICE\"))\n",
    "# read post-dilatation balloon details\n",
    "postbn = pd.read_csv('{}/{}.csv'.format(path, \"POSTBN\"))\n",
    "# read adverse document documentation\n",
    "ae_data = pd.read_csv('{}/{}.csv'.format(path, \"AE\"))\n",
    "# read hospital discharge details\n",
    "dis = pd.read_csv('{}/{}.csv'.format(path, \"DIS\"))"
   ]
  },
  {
   "cell_type": "markdown",
   "metadata": {},
   "source": [
    "## Baseline Clinical and Lesion$^a$ Characteristics\n",
    "Data are shown as mean ${\\pm}$ SD or n (\\%). $^a$ per site assessment"
   ]
  },
  {
   "cell_type": "code",
   "execution_count": 73,
   "metadata": {},
   "outputs": [
    {
     "name": "stdout",
     "output_type": "stream",
     "text": [
      "Patients, n = 1985\n",
      "1480 (74.55919395465995)\n"
     ]
    },
    {
     "data": {
      "text/html": [
       "<div>\n",
       "<style scoped>\n",
       "    .dataframe tbody tr th:only-of-type {\n",
       "        vertical-align: middle;\n",
       "    }\n",
       "\n",
       "    .dataframe tbody tr th {\n",
       "        vertical-align: top;\n",
       "    }\n",
       "\n",
       "    .dataframe thead th {\n",
       "        text-align: right;\n",
       "    }\n",
       "</style>\n",
       "<table border=\"1\" class=\"dataframe\">\n",
       "  <thead>\n",
       "    <tr style=\"text-align: right;\">\n",
       "      <th></th>\n",
       "      <th>result</th>\n",
       "    </tr>\n",
       "  </thead>\n",
       "  <tbody>\n",
       "    <tr>\n",
       "      <th>Mean age, years</th>\n",
       "      <td>61.74307304785894 ± 10.499825289524251</td>\n",
       "    </tr>\n",
       "    <tr>\n",
       "      <th>Male</th>\n",
       "      <td>1480 (74.55919395465995)</td>\n",
       "    </tr>\n",
       "    <tr>\n",
       "      <th>Hypertension</th>\n",
       "      <td>1301 (65.54156171284635)</td>\n",
       "    </tr>\n",
       "    <tr>\n",
       "      <th>Diabetis</th>\n",
       "      <td>417 (21.007556675062972)</td>\n",
       "    </tr>\n",
       "    <tr>\n",
       "      <th>Insulin dependent</th>\n",
       "      <td>83 (4.181360201511335)</td>\n",
       "    </tr>\n",
       "    <tr>\n",
       "      <th>History of MI</th>\n",
       "      <td>418 (21.05793450881612)</td>\n",
       "    </tr>\n",
       "    <tr>\n",
       "      <th>Number of MI</th>\n",
       "      <td>1.0741626794258374 ± 0.2963128960863483</td>\n",
       "    </tr>\n",
       "    <tr>\n",
       "      <th>History of stroke/TIA</th>\n",
       "      <td>68 (3.425692695214106)</td>\n",
       "    </tr>\n",
       "    <tr>\n",
       "      <th>Cancer</th>\n",
       "      <td>132 (6.649874055415617)</td>\n",
       "    </tr>\n",
       "    <tr>\n",
       "      <th>Patients with 2 de novo lesions</th>\n",
       "      <td>81 (4.080604534005038)</td>\n",
       "    </tr>\n",
       "  </tbody>\n",
       "</table>\n",
       "</div>"
      ],
      "text/plain": [
       "                                                                  result\n",
       "Mean age, years                   61.74307304785894 ± 10.499825289524251\n",
       "Male                                            1480 (74.55919395465995)\n",
       "Hypertension                                    1301 (65.54156171284635)\n",
       "Diabetis                                        417 (21.007556675062972)\n",
       "Insulin dependent                                 83 (4.181360201511335)\n",
       "History of MI                                    418 (21.05793450881612)\n",
       "Number of MI                     1.0741626794258374 ± 0.2963128960863483\n",
       "History of stroke/TIA                             68 (3.425692695214106)\n",
       "Cancer                                           132 (6.649874055415617)\n",
       "Patients with 2 de novo lesions                   81 (4.080604534005038)"
      ]
     },
     "execution_count": 73,
     "metadata": {},
     "output_type": "execute_result"
    }
   ],
   "source": [
    "patient_count = len(set(enrol[\"subjid\"]))\n",
    "print(\"Patients, n = {0}\".format(patient_count))\n",
    "patients = pd.DataFrame(columns=[\"result\"])\n",
    "print(\"{0} ({1})\".format(len(enrol.sex.loc[enrol.sex == \"Male\"]), 100*(len(enrol.sex.loc[enrol.sex == \"Male\"])/patient_count)))\n",
    "patients.loc[\"Mean age, years\"] = \"{0} ± {1}\".format(np.mean(enrol[\"age\"]), np.std(enrol[\"age\"]))\n",
    "patients.loc[\"Male\"] = \"{0} ({1})\".format(len(enrol[(enrol.sex == \"Male\")]), 100*(len(enrol[(enrol.sex == \"Male\")])/patient_count))\n",
    "patients.loc[\"Hypertension\"] =  \"{0} ({1})\".format(len(mhrf[(mhrf.mhhypten == \"Yes\")]), \n",
    "                                                   100*(len(mhrf[(mhrf.mhhypten == \"Yes\")])/patient_count))\n",
    "patients.loc[\"Diabetis\"] = \"{0} ({1})\".format(len(mhrf[(mhrf.mhdiabet == \"Insulin dependent\") | (mhrf.mhdiabet == \"Non-insulin dependent\")]), \n",
    "                                          100*(len(mhrf[(mhrf.mhdiabet == \"Insulin dependent\") | (mhrf.mhdiabet == \"Non-insulin dependent\")])/patient_count))\n",
    "patients.loc[\"Insulin dependent\"] = \"{0} ({1})\".format(len(mhrf[(mhrf.mhdiabet == \"Insulin dependent\")]), \n",
    "                                          100*(len(mhrf[(mhrf.mhdiabet == \"Insulin dependent\")])/patient_count))\n",
    "patients.loc[\"History of MI\"] = \"{0} ({1})\".format(len(mhrf[(mhrf.mhmi == \"Yes\")]), \n",
    "                                          100*(len(mhrf[(mhrf.mhmi == \"Yes\")])/patient_count))\n",
    "patients.loc[\"Number of MI\"] = \"{0} ± {1}\".format(np.mean(mhrf[\"mhminum\"]), np.std(mhrf[\"mhminum\"]))\n",
    "patients.loc[\"History of stroke/TIA\"] = \"{0} ({1})\".format(len(mhrf[(mhrf.mhtia == \"Yes\")]), \n",
    "                                          100*(len(mhrf[(mhrf.mhtia == \"Yes\")])/patient_count))\n",
    "patients.loc[\"Cancer\"] = \"{0} ({1})\".format(len(mhrf[(mhrf.mhcancer == \"Yes\")]), \n",
    "                                          100*(len(mhrf[(mhrf.mhcancer == \"Yes\")])/patient_count))\n",
    "\n",
    "patients.loc[\"Patients with 2 de novo lesions\"] = \"{0} ({1})\".format(len(lc[\"subjid\"]) - len(set(lc[\"subjid\"])), \n",
    "                                          100*((len(lc[\"subjid\"]) - len(set(lc[\"subjid\"])))/patient_count))\n",
    "patients"
   ]
  },
  {
   "cell_type": "code",
   "execution_count": 71,
   "metadata": {},
   "outputs": [
    {
     "name": "stdout",
     "output_type": "stream",
     "text": [
      "81\n",
      "1965\n",
      "2046\n"
     ]
    }
   ],
   "source": [
    "print(len(lc[\"subjid\"]) - len(set(lc[\"subjid\"])))\n",
    "print(len(set(lc[\"subjid\"])))\n",
    "print(len(lc.subjid))"
   ]
  },
  {
   "cell_type": "code",
   "execution_count": 66,
   "metadata": {},
   "outputs": [
    {
     "name": "stdout",
     "output_type": "stream",
     "text": [
      "Lesions, n = 2046\n"
     ]
    },
    {
     "data": {
      "text/html": [
       "<div>\n",
       "<style scoped>\n",
       "    .dataframe tbody tr th:only-of-type {\n",
       "        vertical-align: middle;\n",
       "    }\n",
       "\n",
       "    .dataframe tbody tr th {\n",
       "        vertical-align: top;\n",
       "    }\n",
       "\n",
       "    .dataframe thead th {\n",
       "        text-align: right;\n",
       "    }\n",
       "</style>\n",
       "<table border=\"1\" class=\"dataframe\">\n",
       "  <thead>\n",
       "    <tr style=\"text-align: right;\">\n",
       "      <th></th>\n",
       "      <th>result</th>\n",
       "    </tr>\n",
       "  </thead>\n",
       "  <tbody>\n",
       "    <tr>\n",
       "      <th>Lesion length, mm</th>\n",
       "      <td>14.806159491193737 ± 3.9939734169846663</td>\n",
       "    </tr>\n",
       "    <tr>\n",
       "      <th>Reference vessel diameter, mm</th>\n",
       "      <td>3.235294117647059 ± 0.27991632462028243</td>\n",
       "    </tr>\n",
       "    <tr>\n",
       "      <th>Diameter Stenosis pre-procedure, %</th>\n",
       "      <td>82.27726161369193 ± 10.608567665083887</td>\n",
       "    </tr>\n",
       "    <tr>\n",
       "      <th>Calcification None/Moderate</th>\n",
       "      <td>1894 (92.57086999022482)</td>\n",
       "    </tr>\n",
       "    <tr>\n",
       "      <th>AHA/ACC classification type B2/C</th>\n",
       "      <td>309 (15.102639296187684)</td>\n",
       "    </tr>\n",
       "    <tr>\n",
       "      <th>Bifurcation lesion</th>\n",
       "      <td>97 (4.740957966764419)</td>\n",
       "    </tr>\n",
       "  </tbody>\n",
       "</table>\n",
       "</div>"
      ],
      "text/plain": [
       "                                                                     result\n",
       "Lesion length, mm                   14.806159491193737 ± 3.9939734169846663\n",
       "Reference vessel diameter, mm       3.235294117647059 ± 0.27991632462028243\n",
       "Diameter Stenosis pre-procedure, %   82.27726161369193 ± 10.608567665083887\n",
       "Calcification None/Moderate                        1894 (92.57086999022482)\n",
       "AHA/ACC classification type B2/C                   309 (15.102639296187684)\n",
       "Bifurcation lesion                                   97 (4.740957966764419)"
      ]
     },
     "execution_count": 66,
     "metadata": {},
     "output_type": "execute_result"
    }
   ],
   "source": [
    "lesion_count = len(lc[\"subjid\"])\n",
    "print(\"Lesions, n = {0}\".format(lesion_count))\n",
    "lesions = pd.DataFrame(columns=[\"result\"])\n",
    "lesions.loc[\"Lesion length, mm\"] = \"{0} ± {1}\".format(np.mean(lc[\"lclenv\"]), np.std(lc[\"lclenv\"]))\n",
    "lesions.loc[\"Reference vessel diameter, mm\"] = \"{0} ± {1}\".format(np.mean(lc[\"lcrvdv\"]), np.std(lc[\"lcrvdv\"]))\n",
    "lesions.loc[\"Diameter Stenosis pre-procedure, %\"] = \"{0} ± {1}\".format(np.mean(lc[\"lcdsv\"]), np.std(lc[\"lcdsv\"]))\n",
    "lesions.loc[\"Calcification None/Moderate\"] =  \"{0} ({1})\".format(len(lc[(lc.lccalccs == \"None\") | (lc.lccalccs == \"Mild\")]), \n",
    "                                          100*(len(lc[(lc.lccalccs == \"None\") | (lc.lccalccs == \"Mild\")])/lesion_count))\n",
    "lesions.loc[\"AHA/ACC classification type B2/C\"] = \"{0} ({1})\".format(len(lc[(lc.lcaccaha == \"Type B2\") | (lc.lcaccaha == \"Type C\")]), \n",
    "                                          100*(len(lc[(lc.lcaccaha == \"Type B2\") | (lc.lcaccaha == \"Type C\")])/lesion_count))\n",
    "lesions.loc[\"Bifurcation lesion\"] = \"{0} ({1})\".format(len(lc[(lc.lcbifurc == \"Yes\")]), \n",
    "                                          100*(len(lc[(lc.lcbifurc == \"Yes\")])/lesion_count))\n",
    "lesions"
   ]
  },
  {
   "cell_type": "markdown",
   "metadata": {},
   "source": [
    "There are several patients with two single de novo lesions in two different major epicardial vessels. That is the maximum number a patient can have to be enrolled for the study (see inclusion criterias). This explains the difference in the number of enrolled patients and lesions treated. The number of patients having two ne dono lesions is 81, 4.08% of all patients."
   ]
  },
  {
   "cell_type": "markdown",
   "metadata": {},
   "source": [
    "## Procedural characteristics.\n",
    "Data are shown as mean±SD or n (%). $^a$ per site assessment.\n",
    "\n",
    "The analysis is based on the intention-to-treat population, defined as patients in whom the scaffold entered the guiding catheter. Further, data analysis is based on the data available. Categorical data were calculated using absolute and relative frequencies."
   ]
  },
  {
   "cell_type": "code",
   "execution_count": 238,
   "metadata": {},
   "outputs": [
    {
     "name": "stdout",
     "output_type": "stream",
     "text": [
      "Lesions, n = 2046\n"
     ]
    },
    {
     "data": {
      "text/html": [
       "<div>\n",
       "<style scoped>\n",
       "    .dataframe tbody tr th:only-of-type {\n",
       "        vertical-align: middle;\n",
       "    }\n",
       "\n",
       "    .dataframe tbody tr th {\n",
       "        vertical-align: top;\n",
       "    }\n",
       "\n",
       "    .dataframe thead th {\n",
       "        text-align: right;\n",
       "    }\n",
       "</style>\n",
       "<table border=\"1\" class=\"dataframe\">\n",
       "  <thead>\n",
       "    <tr style=\"text-align: right;\">\n",
       "      <th></th>\n",
       "      <th>result</th>\n",
       "    </tr>\n",
       "  </thead>\n",
       "  <tbody>\n",
       "    <tr>\n",
       "      <th>Pre-dilatation performed</th>\n",
       "      <td>2041 (99.75562072336265)</td>\n",
       "    </tr>\n",
       "    <tr>\n",
       "      <th>Maximum pressure applied, [atm], n = 2041</th>\n",
       "      <td>14.605288284979801 ± 3.4085505155743676</td>\n",
       "    </tr>\n",
       "    <tr>\n",
       "      <th>Scaffold sizes (diameter [mm] x length [mm], n = 2116</th>\n",
       "      <td>NaN</td>\n",
       "    </tr>\n",
       "    <tr>\n",
       "      <th>3.0 x 15 mm</th>\n",
       "      <td>427 (20.179584120982987)</td>\n",
       "    </tr>\n",
       "    <tr>\n",
       "      <th>3.0 x 20 mm</th>\n",
       "      <td>407 (19.234404536862005)</td>\n",
       "    </tr>\n",
       "    <tr>\n",
       "      <th>3.0 x 25 mm</th>\n",
       "      <td>247 (11.67296786389414)</td>\n",
       "    </tr>\n",
       "    <tr>\n",
       "      <th>3.5 x 15 mm</th>\n",
       "      <td>316 (14.933837429111533)</td>\n",
       "    </tr>\n",
       "    <tr>\n",
       "      <th>3.5 x 20 mm</th>\n",
       "      <td>437 (20.652173913043477)</td>\n",
       "    </tr>\n",
       "    <tr>\n",
       "      <th>3.5 x 25 mm</th>\n",
       "      <td>282 (13.32703213610586)</td>\n",
       "    </tr>\n",
       "    <tr>\n",
       "      <th>Inflation time [sec], n = 2062</th>\n",
       "      <td>23.537827352085355 ± 11.39261739329886</td>\n",
       "    </tr>\n",
       "    <tr>\n",
       "      <th>Maximum pressure applied [atm], n = 2084</th>\n",
       "      <td>14.370057581573898 ± 2.691016510972639</td>\n",
       "    </tr>\n",
       "    <tr>\n",
       "      <th>Post-dilatation performed</th>\n",
       "      <td>1954 (95.50342130987292)</td>\n",
       "    </tr>\n",
       "    <tr>\n",
       "      <th>Maximum pressure applied, [atm], n = 1954</th>\n",
       "      <td>17.072831574116567 ± 3.362327508311345</td>\n",
       "    </tr>\n",
       "  </tbody>\n",
       "</table>\n",
       "</div>"
      ],
      "text/plain": [
       "                                                                                     result\n",
       "Pre-dilatation performed                                           2041 (99.75562072336265)\n",
       "Maximum pressure applied, [atm], n = 2041           14.605288284979801 ± 3.4085505155743676\n",
       "Scaffold sizes (diameter [mm] x length [mm], n ...                                      NaN\n",
       "3.0 x 15 mm                                                        427 (20.179584120982987)\n",
       "3.0 x 20 mm                                                        407 (19.234404536862005)\n",
       "3.0 x 25 mm                                                         247 (11.67296786389414)\n",
       "3.5 x 15 mm                                                        316 (14.933837429111533)\n",
       "3.5 x 20 mm                                                        437 (20.652173913043477)\n",
       "3.5 x 25 mm                                                         282 (13.32703213610586)\n",
       "Inflation time [sec], n = 2062                       23.537827352085355 ± 11.39261739329886\n",
       "Maximum pressure applied [atm], n = 2084             14.370057581573898 ± 2.691016510972639\n",
       "Post-dilatation performed                                          1954 (95.50342130987292)\n",
       "Maximum pressure applied, [atm], n = 1954            17.072831574116567 ± 3.362327508311345"
      ]
     },
     "execution_count": 238,
     "metadata": {},
     "output_type": "execute_result"
    }
   ],
   "source": [
    "print(\"Lesions, n = {0}\".format(lesion_count))\n",
    "procedures = pd.DataFrame(columns=[\"result\"])\n",
    "\n",
    "## pre-dilatation analysis\n",
    "pre_dils = len(lc[(lc.pdprdil == \"Yes\")])\n",
    "procedures.loc[\"Pre-dilatation performed\"] = \"{0} ({1})\".format(pre_dils, 100*(pre_dils/lesion_count))\n",
    "#procedures.loc[\"Pre-dilatation balloon, n = 1922\"] = None\n",
    "#procedures.loc[\"Non-compliant\"] = \"{0} ({1})\".format(len(prebn[(prebn.pdprdil == \"Yes\")]), \n",
    "#                                          100*(len(lc[(lc.pdprdil == \"Yes\")])/pre_dils))\n",
    "procedures.loc[\"Maximum pressure applied, [atm], n = {0}\".format(pre_dils)] = \"{0} ± {1}\".format(np.mean(prebn[\"pdbnmax\"]), np.std(prebn[\"pdbnmax\"]))\n",
    "\n",
    "## scaffold analysis\n",
    "\n",
    "# scaffold sized\n",
    "magmaris_count = len(device[(device.ddstdia.isin([3.0,3.5])) & (device.ddstlen.isin([15.0,20.0,25.0]))]) # sum of all \"common\" sized\n",
    "\n",
    "procedures.loc[\"Scaffold sizes (diameter [mm] x length [mm], n = {0}\".format(magmaris_count)] = None # is the number of Magmaris scaffolds that entered the guiding catheter\n",
    "procedures.loc[\"3.0 x 15 mm\"] = \"{0} ({1})\".format(len(device[(device.ddstdia == 3.0) & (device.ddstlen == 15.0)]), \n",
    "                                          100*(len(device[(device.ddstdia == 3.0) & (device.ddstlen == 15.0)])/magmaris_count))\n",
    "procedures.loc[\"3.0 x 20 mm\"] = \"{0} ({1})\".format(len(device[(device.ddstdia == 3.0) & (device.ddstlen == 20.0)]), \n",
    "                                          100*(len(device[(device.ddstdia == 3.0) & (device.ddstlen == 20.0)])/magmaris_count))\n",
    "procedures.loc[\"3.0 x 25 mm\"] = \"{0} ({1})\".format(len(device[(device.ddstdia == 3.0) & (device.ddstlen == 25.0)]), \n",
    "                                          100*(len(device[(device.ddstdia == 3.0) & (device.ddstlen == 25.0)])/magmaris_count))\n",
    "\n",
    "procedures.loc[\"3.5 x 15 mm\"] = \"{0} ({1})\".format(len(device[(device.ddstdia == 3.5) & (device.ddstlen == 15.0)]), \n",
    "                                          100*(len(device[(device.ddstdia == 3.5) & (device.ddstlen == 15.0)])/magmaris_count))\n",
    "procedures.loc[\"3.5 x 20 mm\"] = \"{0} ({1})\".format(len(device[(device.ddstdia == 3.5) & (device.ddstlen == 20.0)]), \n",
    "                                          100*(len(device[(device.ddstdia == 3.5) & (device.ddstlen == 20.0)])/magmaris_count))\n",
    "procedures.loc[\"3.5 x 25 mm\"] = \"{0} ({1})\".format(len(device[(device.ddstdia == 3.5) & (device.ddstlen == 25.0)]), \n",
    "                                          100*(len(device[(device.ddstdia == 3.5) & (device.ddstlen == 25.0)])/magmaris_count))\n",
    "\n",
    "# scaffold inflation time\n",
    "inflation_count = len(device[~device.ddstitm.isnull()])\n",
    "procedures.loc[\"Inflation time [sec], n = {0}\".format(inflation_count)] =\"{0} ± {1}\".format(np.mean(device[\"ddstitm\"]), np.std(device[\"ddstitm\"]))\n",
    "\n",
    "# scaffold applied pressure\n",
    "pressure_count = len(device[~device.ddstmax.isnull()])\n",
    "procedures.loc[\"Maximum pressure applied [atm], n = {0}\".format(pressure_count)] = \"{0} ± {1}\".format(np.mean(device[\"ddstmax\"]), np.std(device[\"ddstmax\"]))\n",
    "\n",
    "## post-dilatation analysis\n",
    "pro_dils = len(lc[(lc.pdpsdil == \"Yes\")])\n",
    "procedures.loc[\"Post-dilatation performed\"] = \"{0} ({1})\".format(pro_dils, 100*(pro_dils/lesion_count))\n",
    "procedures.loc[\"Maximum pressure applied, [atm], n = {0}\".format(pro_dils)] = \"{0} ± {1}\".format(np.mean(postbn[\"pdbnmax\"]), np.std(postbn[\"pdbnmax\"]))\n",
    "\n",
    "procedures"
   ]
  },
  {
   "cell_type": "markdown",
   "metadata": {},
   "source": [
    "The number of scaffolds (n = 2117) is higher than the number of lesions to be treated. As total number of used scaffolds are counted all Magmaris scaffolds that entered the guiding catheter. There are multiple reason for the usage of more than one Magmaris scaffold for one lesion treatment: First device could not be implanted, dissection or an incomplete lesion coverage \n",
    "whereby another Magmaris scaffold had to be placed end-to-end or overlapping. The different numbers of scaffold inflations and used sized is due to the fact, that the balloon catheter for the scaffold can be inflated more than one time."
   ]
  },
  {
   "cell_type": "markdown",
   "metadata": {},
   "source": [
    "## Success analysis\n",
    "Several  factors  are  necessary  in  order  to  speak  of  device  success.   A  final  stenosis  of<30% using the assigned device only, successful delivery of the scaffold, appreciate scaffolddeployment  and successful removal of  the  device.  Procedure success  is defined  as finaldiameter stenosis<30% without the occurrence of death, repeat TLR or MI. Total number of scaffolds set (n=1890) varies from sum of analysed differentscaffold sized due to missing values."
   ]
  },
  {
   "cell_type": "code",
   "execution_count": 225,
   "metadata": {},
   "outputs": [
    {
     "data": {
      "text/html": [
       "<div>\n",
       "<style scoped>\n",
       "    .dataframe tbody tr th:only-of-type {\n",
       "        vertical-align: middle;\n",
       "    }\n",
       "\n",
       "    .dataframe tbody tr th {\n",
       "        vertical-align: top;\n",
       "    }\n",
       "\n",
       "    .dataframe thead th {\n",
       "        text-align: right;\n",
       "    }\n",
       "</style>\n",
       "<table border=\"1\" class=\"dataframe\">\n",
       "  <thead>\n",
       "    <tr style=\"text-align: right;\">\n",
       "      <th></th>\n",
       "      <th>result</th>\n",
       "    </tr>\n",
       "  </thead>\n",
       "  <tbody>\n",
       "    <tr>\n",
       "      <th>Device success, n = 2116 scaffolds</th>\n",
       "      <td>2061 (97.4007561436673)</td>\n",
       "    </tr>\n",
       "    <tr>\n",
       "      <th>Procedure success, n = 1985 patients</th>\n",
       "      <td>1769 (89.11838790931989)</td>\n",
       "    </tr>\n",
       "  </tbody>\n",
       "</table>\n",
       "</div>"
      ],
      "text/plain": [
       "                                                        result\n",
       "Device success, n = 2116 scaffolds     2061 (97.4007561436673)\n",
       "Procedure success, n = 1985 patients  1769 (89.11838790931989)"
      ]
     },
     "execution_count": 225,
     "metadata": {},
     "output_type": "execute_result"
    }
   ],
   "source": [
    "## device success\n",
    "success = pd.DataFrame(columns=[\"result\"])\n",
    "success_count = len(device[(device.ddstscfdeliver == \"Yes\") & \n",
    "             ((device.ddstscfdeploy == \"Yes\" ) | ((device.ddstscfdeploy == \"No\" ) & (device.ddstsafremove == \"Yes\"))) &\n",
    "             (device.ddstscfremove == \"Yes\") &\n",
    "             (device.ddsteres <= 30)])\n",
    "success.loc[\"Device success, n = {0} scaffolds\".format(magmaris_count)] = \"{0} ({1})\".format(success_count, 100*(success_count/magmaris_count))\n",
    "\n",
    "## procedure success\n",
    "# patients with final diameter stenosis <30%\n",
    "patients_proc_succ = set(device.subjid[device.ddsteres <= 30]) \n",
    "# without occurence of death\n",
    "patients_proc_succ = list(set(patients_proc_succ) - set(ae_data.subjid[ae_data.aedth == \"Yes\"])) \n",
    "# without occurence of MI\n",
    "patients_proc_succ = list(set(patients_proc_succ) - set(ae_data.subjid[(ae_data[\"aemiehdef\"] == \"Yes\") | \n",
    "                                                                  (ae_data[\"aemiscaidef\"] == \"Yes\") |\n",
    "                                                                  (ae_data[\"aemiudef\"] == \"Yes\")])) \n",
    "# without repeat TLR \n",
    "patients_proc_succ = list(set(patients_proc_succ) - set(ae_data.subjid[(ae_data[\"aerevasc\"] == \"Target lesion revascularization\")]))\n",
    "\n",
    "success.loc[\"Procedure success, n = {0} patients\".format(patient_count)] = \"{0} ({1})\".format(len(patients_proc_succ), 100*(len(patients_proc_succ)/patient_count))\n",
    "success"
   ]
  },
  {
   "cell_type": "markdown",
   "metadata": {},
   "source": [
    "Compliance with the implantation guidelines is of the utmost importance for BRS. This is reflected in the significantly better results [ https://www.sciencedirect.com/science/article/pii/S0735109715078730 ]. In our data, guidelines were in general respected which resulted in 97.4% successful implantation and 89.1% successfull procedures.\n"
   ]
  },
  {
   "cell_type": "markdown",
   "metadata": {},
   "source": [
    "## Intraprocedural Performance of Magmaris\n",
    "Physicians' feedback on the performance of Magmaris is provided in the next figure."
   ]
  },
  {
   "cell_type": "code",
   "execution_count": 412,
   "metadata": {},
   "outputs": [
    {
     "name": "stdout",
     "output_type": "stream",
     "text": [
      "Most common commercial BRS for comparison:\n",
      "[('NAN', 1324), ('ABSORB', 593), ('MAGMARIS', 21), ('/', 20), ('ABSORBE', 16)]\n",
      "Most common commercial DES for comparison:\n",
      "[('NAN', 1011), ('ORSIRO', 570), ('XIENCE', 110), ('SYNSIRO', 61), ('ONYX', 55)]\n",
      "Number of complete feedbacks for Magmaris performence are n = 1634 from 2116 cases\n",
      "Number of complete feedbacks for Magmaris performence vs BRS are n = 1287 from 2116 cases\n",
      "Number of complete feedbacks for Magmaris performence vs DES are n = 1596 from 2116 cases\n",
      "                        Better      Equal     Worse\n",
      "Guide with friction  45.532246  54.079254  0.388500\n",
      "Trackability         48.407148  50.660451  0.932401\n",
      "Pushability          47.241647  52.136752  0.621601\n",
      "Crossability         51.748252  47.397047  0.854701\n",
      "Conformability       49.572650  49.261849  1.165501\n",
      "Inflation time       50.427350  48.873349  0.699301\n",
      "Ease of removal      46.930847  52.059052  1.010101\n",
      "Overall Performence  52.525253  46.620047  0.854701\n",
      "                       Better      Equal     Worse\n",
      "Guide with friction  6.140351  90.413534  3.446115\n",
      "Trackability         5.388471  87.092732  7.518797\n",
      "Pushability          6.641604  87.468672  5.889724\n",
      "Crossability         7.142857  84.335840  8.521303\n",
      "Conformability       8.646617  86.152882  5.200501\n",
      "Inflation time       7.456140  86.716792  5.827068\n",
      "Ease of removal      6.892231  87.218045  5.889724\n",
      "Overall Performence  6.766917  85.588972  7.644110\n"
     ]
    },
    {
     "data": {
      "text/plain": [
       "<matplotlib.legend.Legend at 0x21815eda588>"
      ]
     },
     "execution_count": 412,
     "metadata": {},
     "output_type": "execute_result"
    },
    {
     "data": {
      "image/png": "[encoded data removed]",
      "text/plain": [
       "<Figure size 432x288 with 1 Axes>"
      ]
     },
     "metadata": {
      "needs_background": "light"
     },
     "output_type": "display_data"
    },
    {
     "data": {
      "image/png": "[encoded data removed]",
      "text/plain": [
       "<Figure size 432x288 with 1 Axes>"
      ]
     },
     "metadata": {
      "needs_background": "light"
     },
     "output_type": "display_data"
    },
    {
     "data": {
      "image/png": "[encoded data removed]",
      "text/plain": [
       "<Figure size 432x288 with 1 Axes>"
      ]
     },
     "metadata": {
      "needs_background": "light"
     },
     "output_type": "display_data"
    }
   ],
   "source": [
    "# columns for Magmaris performence\n",
    "magmaris = [\"ddstgwfrictcs\",\"ddsttrackcs\",\"ddstpushcs\",\"ddstcrosscs\",\"ddstconfcs\",\"ddstitmcs\",\"ddsteasecs\",\"ddstprfrmcs\"]\n",
    "# cols for comparison with commercial BRS\n",
    "brs = [\"ddstgwfrictbrs\",\"ddsttrackbrs\",\"ddstpushbrs\",\"ddstcrossbrs\",\"ddstconfbrs\",\"ddstitmbrs\",\"ddsteasebrs\",\"ddstprfrmbrs\"]\n",
    "# cols for comparison with commercial DES\n",
    "des = [\"ddstgwfrictdes\",\"ddsttrackdes\",\"ddstpushdes\",\"ddstcrossdes\",\"ddstconfdes\",\"ddstitmdes\",\"ddsteasedes\",\"ddstprfrmdes\"]\n",
    "\n",
    "# most used comparison devices\n",
    "print(\"Most common commercial BRS for comparison:\")\n",
    "print(Counter([str(x).upper() for x in device.ddstcompbrs]).most_common(5))\n",
    "print(\"Most common commercial DES for comparison:\")\n",
    "print(Counter([str(x).upper() for x in device.ddstcompdes]).most_common(5))\n",
    "\n",
    "# get number of available feedbacks\n",
    "mag_feed = len(device[device[magmaris].isnull().sum(axis=1) == 0])\n",
    "print(\"Number of complete feedbacks for Magmaris performence are n = {0} from {1} cases\".\n",
    "      format(mag_feed,magmaris_count))\n",
    "brs_feed = len(device[device[brs].isnull().sum(axis=1) == 0])\n",
    "print(\"Number of complete feedbacks for Magmaris performence vs BRS are n = {0} from {1} cases\".\n",
    "      format(brs_feed,magmaris_count))\n",
    "des_feed = len(device[device[des].isnull().sum(axis=1) == 0])\n",
    "print(\"Number of complete feedbacks for Magmaris performence vs DES are n = {0} from {1} cases\".\n",
    "      format(des_feed,magmaris_count))\n",
    "\n",
    "# get feedback as numbers\n",
    "row_names = [\"Guide with friction\", \"Trackability\", \"Pushability\", \"Crossability\", \"Conformability\",\"Inflation time\",\"Ease of removal\",\"Overall Performence\"]\n",
    "\n",
    "# magmaris\n",
    "feedback = device[device[magmaris].isnull().sum(axis=1) == 0][magmaris].apply(pd.value_counts).T\n",
    "feedback = feedback[[\"Very good\",\"Good\",\"Acceptable\",\"Poor\",\"Very poor\"]]\n",
    "feedback = feedback.rename(index = dict(zip(magmaris, row_names)))\n",
    "feedback = feedback/mag_feed*100\n",
    "feedback.plot.barh(stacked=True,colormap='viridis').tick_params(labelsize=14)\n",
    "plt.suptitle('Magmaris Intraprocedural Performance', fontsize = 18)\n",
    "plt.legend(bbox_to_anchor=(1,1), fontsize=14)\n",
    "   \n",
    "# magmaris vs BRS\n",
    "feedback = device[device[brs].isnull().sum(axis=1) == 0][brs].apply(pd.value_counts).T\n",
    "feedback = feedback[[\"Better\",\"Equal\",\"Worse\"]]\n",
    "feedback = feedback.rename(index = dict(zip(brs, row_names)))\n",
    "feedback = feedback/brs_feed*100\n",
    "print(feedback)\n",
    "feedback.plot.barh(stacked=True,colormap='viridis').tick_params(labelsize=14)\n",
    "plt.suptitle('Magmaris vs Commercial BRS', fontsize = 18)\n",
    "plt.legend(bbox_to_anchor=(1,1), fontsize=14)\n",
    "\n",
    "# magmaris vs DES\n",
    "feedback = device[device[des].isnull().sum(axis=1) == 0][des].apply(pd.value_counts).T\n",
    "feedback = feedback[[\"Better\",\"Equal\",\"Worse\"]]\n",
    "feedback = feedback.rename(index = dict(zip(des, row_names)))\n",
    "feedback = feedback/des_feed*100\n",
    "print(feedback)\n",
    "feedback.plot.barh(stacked=True,colormap='viridis').tick_params(labelsize=14)\n",
    "plt.suptitle('Magmaris vs Commercial DES', fontsize = 18)\n",
    "plt.legend(bbox_to_anchor=(1,1), fontsize=14)"
   ]
  },
  {
   "cell_type": "markdown",
   "metadata": {},
   "source": [
    "(A) Magmaris scaffold (B) Magmaris versus commercial BRS (C) Magmaris versus commercial DES. Per physicians' feedback. Magmaris were compared from the physicians to the device which besides Magmaris can be best assessed based on e.g. practical experience. \n",
    "(A) Data were available for 1634 from 2116 cases. The overall performance of Magmaris was rated as good or very good in\n",
    "97% of cases. <br>\n",
    "(B) Magaris were mainly compared to Absorb scaffold (Abbott\n",
    "Vascular, Santa Ana, CA, USA). Data from all comparisons were available for 1287 from 2116 cases. Conformability of Magmaris was rated as better in 49% of cases (in 49% equal), the crossability in 57% (in 47% equal), the trackability in 48% (in 50% eual) and the pushability in 47% (in 52% equal). <br>\n",
    "(C) Magaris were mainly compared to Orsiro scaffold (BIOTRONIK AG, Bülach Switzerland). Data from all comparisons were available for 1596 from 2116 cases. Conformability of Magmaris was rated as better in 8% of cases (in 86% equal), the crossability in 7% (in 84% equal), the trackability in 5% (in 87% equal) and the pushability in 6% (in 87% equal).<br>\n",
    "Trackability: Ability of a system to be advanced through a curved vessel anatomy. Pushability: Functional parameter to assess the force transfer from the proximal shaft to the very distal tip of the stent system. Crossability: Ability to cross tortuous vessels and narrow lesions. Conformability: Parameter describing the difference in vessel curvature and angulation between pre and post-stent implantation. "
   ]
  },
  {
   "cell_type": "code",
   "execution_count": 226,
   "metadata": {},
   "outputs": [
    {
     "name": "stdout",
     "output_type": "stream",
     "text": [
      "Number of patients with TLF: 116\n",
      "Number of occured TLF events: 126\n",
      "5.84% of all patients (n=1985) have suffered from TLF\n"
     ]
    }
   ],
   "source": [
    "# find patients with TLF\n",
    "tlf = ae_data[\n",
    "            ((ae_data[\"aedth\"] == \"YES\") | (ae_data[\"aedthcs\"] == \"Cardiac\")) |\n",
    "            (ae_data[\"aecabg\"] == \"YES\") |\n",
    "            ((ae_data[\"aerevasc\"] == \"Target lesion revascularization\") & (ae_data[\"aerevasccld\"] == \"Yes\")) | \n",
    "            (((ae_data[\"aemiehdef\"] == \"YES\") | (ae_data[\"aemiscaidef\"] == \"YES\")) & (ae_data[\"aemibytv\"] == \"YES\"))\n",
    "        ]\n",
    "\n",
    "# first statistics about primary endpoint TLF\n",
    "patient_count = len(set(tlf[\"subjid\"]))\n",
    "tlf_count = len(tlf[\"subjid\"])\n",
    "tlf_ratio = round((patient_count/len(enrol[\"subjid\"]))*100,2)\n",
    "\n",
    "print(\"Number of patients with TLF: \" + str(patient_count))\n",
    "print(\"Number of occured TLF events: \" + str(tlf_count))\n",
    "print(str(tlf_ratio) + \"% of all patients (n=\"+ str(len(enrol[\"subjid\"])) + \") have suffered from TLF\")\n"
   ]
  },
  {
   "cell_type": "code",
   "execution_count": 4,
   "metadata": {},
   "outputs": [],
   "source": [
    "# get patients with and without TLF event\n",
    "subj_with_tlf = list(set(tlf[\"subjid\"]))\n",
    "subj_no_tlf = list(set(enrol[\"subjid\"]) - set(subj_with_tlf))"
   ]
  },
  {
   "cell_type": "code",
   "execution_count": null,
   "metadata": {},
   "outputs": [],
   "source": []
  }
 ],
 "metadata": {
  "kernelspec": {
   "display_name": "Python 3",
   "language": "python",
   "name": "python3"
  },
  "language_info": {
   "codemirror_mode": {
    "name": "ipython",
    "version": 3
   },
   "file_extension": ".py",
   "mimetype": "text/x-python",
   "name": "python",
   "nbconvert_exporter": "python",
   "pygments_lexer": "ipython3",
   "version": "3.7.1"
  }
 },
 "nbformat": 4,
 "nbformat_minor": 4
}
