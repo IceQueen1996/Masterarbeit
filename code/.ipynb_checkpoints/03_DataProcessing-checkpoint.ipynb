{
 "cells": [
  {
   "cell_type": "markdown",
   "metadata": {},
   "source": [
    "# Data Processing\n",
    "This section will be process baseline variables and procedural information for patients- The outcome (TLF) is based on whole cohort, since we are interested in whether there are early markers in the trajectory of the patient that leads to TLF. Discovery of such markers can help physicians to make appropriate actions earlier to reduce the number of adverse outcomes, especially TLF, and the complications of the these and not in the prediction of the precise timepoint of a possible happening adverse event. Accordingly, we make the assumption that the time of the occurring TLF event is secondary."
   ]
  },
  {
   "cell_type": "code",
   "execution_count": 320,
   "metadata": {},
   "outputs": [],
   "source": [
    "import pandas as pd\n",
    "from matplotlib import pyplot as plt\n",
    "import numpy as np\n",
    "import missingno as msno"
   ]
  },
  {
   "cell_type": "code",
   "execution_count": 336,
   "metadata": {},
   "outputs": [],
   "source": [
    "# read output --< create dictionary with key=subjid and value=TLF (binary, yes = 1, no = 0)\n",
    "#output = pd.read_csv('../data/outcome.csv', sep=\"\\t\", index_col=0, squeeze=True).to_dict()\n",
    "outcome = pd.read_csv('../data/outcome.csv', sep=\"\\t\")"
   ]
  },
  {
   "cell_type": "markdown",
   "metadata": {},
   "source": [
    "Each file will be processed indepentenly in the beginning to get a better overview of what is in it and what could be relevant and to map alphanumerical categories to numbers in a in a clear manner."
   ]
  },
  {
   "cell_type": "code",
   "execution_count": 55,
   "metadata": {},
   "outputs": [],
   "source": [
    "# set path\n",
    "path = 'C:\\\\Users\\\\Elly\\\\Dropbox\\\\Biotronik\\\\data\\\\200603 C1503 BIOSOLVE-IV - csv datasets'\n",
    "\n",
    "# set columns can be dropped from each file (mainly ids and autopopulated from system)\n",
    "cols_2_drop =  [\"studyid\",\"siteid\",\"record_id\",\"record_status\",\"record_status_text\",\n",
    "            \"parent_record_id\",\"interval_name\",\"visit\"]\n",
    "\n",
    "\n",
    "ae_data = pd.read_csv('{}/{}.csv'.format(path, \"AE\"))\n",
    "\n",
    "\n",
    "# get all available data for patients (baseline and information until hospital discharge)\n",
    "file_abr_baseline = [\"IE\",\"EQ5D\",\"MHRF\",\"PCISUB\",\"ISBP\",\"ECG\",\"CEBP\",\"SCBP\",\"LC\",\"CMPROC\"]\n",
    "file_abr_procedure = [\"LC\",\"AE\",\"AEACT\",\"MHRFSUB\",\"DEVDEF\",\"DEVICE\"]"
   ]
  },
  {
   "cell_type": "markdown",
   "metadata": {},
   "source": [
    "### Patient Enrolment\n",
    "This file is the \"main file\" because here the patient/subject id is assigned, on the basis of which all data can be brought together on a patient basis."
   ]
  },
  {
   "cell_type": "code",
   "execution_count": 69,
   "metadata": {},
   "outputs": [
    {
     "name": "stdout",
     "output_type": "stream",
     "text": [
      "Number of patients enroled: 1985\n",
      "<class 'pandas.core.frame.DataFrame'>\n",
      "RangeIndex: 1985 entries, 0 to 1984\n",
      "Data columns (total 3 columns):\n",
      " #   Column  Non-Null Count  Dtype \n",
      "---  ------  --------------  ----- \n",
      " 0   subjid  1985 non-null   object\n",
      " 1   age     1985 non-null   int64 \n",
      " 2   sex     1985 non-null   int32 \n",
      "dtypes: int32(1), int64(1), object(1)\n",
      "memory usage: 38.9+ KB\n"
     ]
    }
   ],
   "source": [
    "# read data\n",
    "enrol = pd.read_csv('{}/{}.csv'.format(path, \"ENROL\"))\n",
    "\n",
    "# delete useless columns from enrol information\n",
    "enrol.drop(cols_2_drop,  axis=1,inplace=True) # general cols\n",
    "enrol.drop([\"enstudyid\",\"encipv\",\"ecrfvers\",\"endtc\", \"entim\"],axis=1,inplace=True) # enrol specific\n",
    "\n",
    "# map alphanumerical categories to numbers\n",
    "gender_mapping = { 'Female': 0, 'Male': 1 }\n",
    "enrol['sex'] = enrol['sex'].map(gender_mapping).astype(int)\n",
    "\n",
    "# get patients number\n",
    "print(\"Number of patients enroled: {0}\".format(len(enrol)))\n",
    "\n",
    "# check missigness in data\n",
    "enrol.info()\n"
   ]
  },
  {
   "cell_type": "markdown",
   "metadata": {},
   "source": [
    "Age and sex for each patient (n = 1985) is given!"
   ]
  },
  {
   "cell_type": "markdown",
   "metadata": {},
   "source": [
    "### Inclusion/Exclusion Criteria\n",
    "These information give first impression of the patient. "
   ]
  },
  {
   "cell_type": "code",
   "execution_count": 268,
   "metadata": {},
   "outputs": [
    {
     "name": "stdout",
     "output_type": "stream",
     "text": [
      "For 4 patients inclusion/exlusion criteria questionnaire(s) are missing.\n",
      "These patients are:\n",
      "['C1503-FRA463-006', 'C1503-AUS035-019', 'C1503-GBR073-008', 'C1503-GBR075-009']\n",
      "Missing value are:\n",
      "excl01      0.75\n",
      "excl05      0.46\n",
      "excl13      0.76\n",
      "fertsts     0.75\n",
      "pregdtc     0.99\n",
      "pregres     0.99\n",
      "excl13_2    0.70\n",
      "incl08_2    0.24\n",
      "excl16_2    0.70\n",
      "excl17_2    0.70\n",
      "excl05_3    0.54\n",
      "excl13_3    0.54\n",
      "excl16_3    0.54\n",
      "dtype: float64\n"
     ]
    }
   ],
   "source": [
    "# read data\n",
    "ie = pd.read_csv('{}/{}.csv'.format(path, \"IE\"))\n",
    "\n",
    "# check if ie questionnaire is available for each patient\n",
    "if len(ie) == len(enrol):\n",
    "    print(\"For each of patient inclusion/exlusion criteria questionnaire given.\".format(len(ie)))\n",
    "else:\n",
    "    print(\"For {0} patients inclusion/exlusion criteria questionnaire(s) are missing.\".format(len(enrol)-len(ie)))\n",
    "    print(\"These patients are:\")\n",
    "    print(list(set(enrol.subjid) - set(ie.subjid)))\n",
    "\n",
    "# delete useless columns from enrol information\n",
    "ie.drop(cols_2_drop, axis=1,inplace=True) # general cols\n",
    "\n",
    "# map alphanumerical categories to numbers\n",
    "numerical_cols = ['subjid','incl08_2','excl05_3',\n",
    "                  'excl13_2','excl13_2','excl13_3',\n",
    "                  'excl16_2','excl16_3','excl17_2',\n",
    "                  'fertsts', 'pregdtc', 'pregres']\n",
    "yes_no_mapping = { 'Yes': 1, 'No': 0 }\n",
    "ie.loc[:, ie.columns.difference(numerical_cols)] = ie.loc[:, ie.columns.difference(numerical_cols)].stack().map(yes_no_mapping).unstack()\n",
    "\n",
    "# check missigness in data\n",
    "null_counts = np.round(ie.isnull().sum()/len(ie),2)\n",
    "print(\"Missing value are:\")\n",
    "print(null_counts[null_counts > 0.0])"
   ]
  },
  {
   "cell_type": "code",
   "execution_count": 269,
   "metadata": {},
   "outputs": [
    {
     "data": {
      "text/plain": [
       "<matplotlib.axes._subplots.AxesSubplot at 0x2427e0f2198>"
      ]
     },
     "execution_count": 269,
     "metadata": {},
     "output_type": "execute_result"
    },
    {
     "data": {
      "image/png": "[encoded data removed]",
      "text/plain": [
       "<Figure size 1440x864 with 2 Axes>"
      ]
     },
     "metadata": {
      "needs_background": "light"
     },
     "output_type": "display_data"
    }
   ],
   "source": [
    "msno.heatmap(ie)"
   ]
  },
  {
   "cell_type": "markdown",
   "metadata": {},
   "source": [
    "Try to explain missigness:<br>\n",
    "Nullity correlation ranges from -1 (if one variable appears the other definitely does not) to 0 (variables appearing or not appearing have no effect on one another) to 1 (if one variable appears the other definitely also does).\n",
    "\n",
    "Look at the variables that show missingness and very low correlation (-1):\n",
    "- incl08_2: Reference vessel diameter between 2.7 - 3.7 by visual estimation, depending on the scaffold size used, only available for CIP 2.0 and 3.0 enrolled patients (missing for 484 patients) --> populate with yes, since it is now part of the 4P implantation guideline from Biotronik.\n",
    "- excl01: Pregnant and / or breast feeding females or females who intend to become pregnant during the time of the registry. Data missing for 1477 patients that are all male. We can assume for missing value \"No\" due to male can't be pregnant or breast feedind. \n",
    "- excl05 + excl05_3: Documented left ventricular ejection fraction (LVEF) ≤ 30% (CIP 1.0 - 3.0, excl05) or <30% (CIP 2.0 + 3.0, excl05_3). Data missing for 908 patients, 904 of them have an entry in excl_05_3 (implies excl05 to be the repective value and vice versa). 4 Patients have complete missing values.\n",
    "- excl13: only available for CIP 1.0 patients, while excl13_2 + excl13_3 just available for CIP 2.0+3.0 patients. 1 Patient has completely missingness, assumption: if excl13_2 and/or excl13_3 given excl13 can be derived (since there are no patiens with different excl13_2 and excl13_3 values). Vice versa unclear.\n",
    "- all other excl_x variables are missing for CIP 1.0 patients due to updated exlusion criterias for newer enrolled subjects. Assumption: can be dropped since there is no clinical relevance in these variables.\n",
    "- fertility status: extremely high missigness due to the fact that most subjects are male (74%). There is no female of childbearing potential. Assumption: Variables can be dropped completely.\n",
    "- Other variables that have no added value: incl01, incl02, excl14, excl15\n",
    "\n",
    "Not For each of the 1985 patients inclusion/exlusion criteria questionnaire given. 4 Patients are missing. \n",
    "Question: What is with these patients?\n",
    "\n",
    "#### Study termination"
   ]
  },
  {
   "cell_type": "code",
   "execution_count": 284,
   "metadata": {},
   "outputs": [
    {
     "name": "stdout",
     "output_type": "stream",
     "text": [
      "Have patients left early?\n"
     ]
    },
    {
     "data": {
      "text/plain": [
       "[]"
      ]
     },
     "execution_count": 284,
     "metadata": {},
     "output_type": "execute_result"
    }
   ],
   "source": [
    "# read data\n",
    "exit = pd.read_csv('{}/{}.csv'.format(path, \"EXIT\"))\n",
    "\n",
    "# try to find missing patients\n",
    "print(\"Have patients left early?\")\n",
    "[print(\"{0} exited study because of {1}\".format(patient, exit.stcomment[exit.subjid == patient])) for patient in list(set(enrol.subjid) - set(ie.subjid)) if (patient in exit.subjid)]"
   ]
  },
  {
   "cell_type": "markdown",
   "metadata": {},
   "source": [
    "No of the missing patiens have left early --> Data is actually missing, keep patients in for now! <br>\n",
    "Try to reduce missingess in ie dataset colwise according to discussed variables above."
   ]
  },
  {
   "cell_type": "code",
   "execution_count": 271,
   "metadata": {},
   "outputs": [
    {
     "name": "stdout",
     "output_type": "stream",
     "text": [
      "Missing value are:\n",
      "excl13_2    0.24\n",
      "excl13_3    0.24\n",
      "dtype: float64\n"
     ]
    }
   ],
   "source": [
    "# drop fertility status\n",
    "ie.drop([\"fertsts\",\"pregdtc\",\"pregres\"], axis=1, inplace=True)\n",
    "\n",
    "# fill in excl01\n",
    "ie['excl01'] = ie['excl01'].fillna(\"0\")\n",
    "\n",
    "# fill in incl08_2 for all CIP 1.0 patients\n",
    "ie['incl08_2'] = ie['incl08_2'].fillna(\"1\")\n",
    "\n",
    "# fill in excl05 + excl05_3\n",
    "ie.loc[ie[\"excl05\"].isna() & ~ie[\"excl05_3\"].isna(),'excl05'] = ie.loc[ie[\"excl05\"].isna() & ~ie[\"excl05_3\"].isna(),'excl05_3']\n",
    "ie.loc[~ie[\"excl05\"].isna() & ie[\"excl05_3\"].isna(),'excl05_3'] = ie.loc[~ie[\"excl05\"].isna() & ie[\"excl05_3\"].isna(),'excl05']\n",
    "\n",
    "# fill in excl_13\n",
    "ie.loc[ie[\"excl13_2\"].isna() & ~ie[\"excl13_3\"].isna(),'excl13_2'] = ie.loc[ie[\"excl13_2\"].isna() & ~ie[\"excl13_3\"].isna(),'excl13_3']\n",
    "ie.loc[~ie[\"excl13_2\"].isna() & ie[\"excl13_3\"].isna(),'excl13_3'] = ie.loc[~ie[\"excl13_2\"].isna() & ie[\"excl13_3\"].isna(),'excl13_2']\n",
    "ie.loc[ie[\"excl13\"].isna() & ~ie[\"excl13_2\"].isna() & ~ie[\"excl13_3\"].isna(),'excl13'] = ie.loc[ie[\"excl13\"].isna() & ~ie[\"excl13_2\"].isna() & ~ie[\"excl13_3\"].isna(),'excl13_2']\n",
    "\n",
    "# drop variables without clinical relevance\n",
    "ie.drop(['incl01', 'incl02', 'excl14', 'excl15', 'excl16_2','excl16_3','excl17_2'], axis=1, inplace=True)\n",
    "\n",
    "# check missigness in data again\n",
    "null_counts = np.round(ie.isnull().sum()/len(ie),2)\n",
    "print(\"Missing value are:\")\n",
    "print(null_counts[null_counts > 0.0])"
   ]
  },
  {
   "cell_type": "markdown",
   "metadata": {},
   "source": [
    "### EQ5D Questionnaire\n",
    "Self-assessment of the patients about their quality of life. Repeats with every follow-up. For now, we are only interested in the first baseline screening questionnaire. Only available for CIP 2.0 + 3.0 patients."
   ]
  },
  {
   "cell_type": "code",
   "execution_count": 388,
   "metadata": {},
   "outputs": [
    {
     "name": "stdout",
     "output_type": "stream",
     "text": [
      "For 489 patients eq5d questionnaire(s) are missing.\n",
      "Missing value are:\n",
      "Series([], dtype: float64)\n"
     ]
    },
    {
     "data": {
      "text/html": [
       "<div>\n",
       "<style scoped>\n",
       "    .dataframe tbody tr th:only-of-type {\n",
       "        vertical-align: middle;\n",
       "    }\n",
       "\n",
       "    .dataframe tbody tr th {\n",
       "        vertical-align: top;\n",
       "    }\n",
       "\n",
       "    .dataframe thead th {\n",
       "        text-align: right;\n",
       "    }\n",
       "</style>\n",
       "<table border=\"1\" class=\"dataframe\">\n",
       "  <thead>\n",
       "    <tr style=\"text-align: right;\">\n",
       "      <th></th>\n",
       "      <th>subjid</th>\n",
       "      <th>pqeq5d1</th>\n",
       "      <th>pqeq5d2</th>\n",
       "      <th>pqeq5d3</th>\n",
       "      <th>pqeq5d4</th>\n",
       "      <th>pqeq5d5</th>\n",
       "    </tr>\n",
       "  </thead>\n",
       "  <tbody>\n",
       "    <tr>\n",
       "      <th>0</th>\n",
       "      <td>C1503-AUS012-012</td>\n",
       "      <td>1</td>\n",
       "      <td>1</td>\n",
       "      <td>2</td>\n",
       "      <td>1</td>\n",
       "      <td>1</td>\n",
       "    </tr>\n",
       "    <tr>\n",
       "      <th>2</th>\n",
       "      <td>C1503-AUS012-013</td>\n",
       "      <td>1</td>\n",
       "      <td>1</td>\n",
       "      <td>1</td>\n",
       "      <td>1</td>\n",
       "      <td>1</td>\n",
       "    </tr>\n",
       "    <tr>\n",
       "      <th>4</th>\n",
       "      <td>C1503-AUS012-014</td>\n",
       "      <td>1</td>\n",
       "      <td>1</td>\n",
       "      <td>1</td>\n",
       "      <td>1</td>\n",
       "      <td>1</td>\n",
       "    </tr>\n",
       "    <tr>\n",
       "      <th>6</th>\n",
       "      <td>C1503-AUS020-017</td>\n",
       "      <td>1</td>\n",
       "      <td>1</td>\n",
       "      <td>1</td>\n",
       "      <td>2</td>\n",
       "      <td>2</td>\n",
       "    </tr>\n",
       "    <tr>\n",
       "      <th>9</th>\n",
       "      <td>C1503-AUS026-043</td>\n",
       "      <td>1</td>\n",
       "      <td>1</td>\n",
       "      <td>1</td>\n",
       "      <td>2</td>\n",
       "      <td>2</td>\n",
       "    </tr>\n",
       "    <tr>\n",
       "      <th>...</th>\n",
       "      <td>...</td>\n",
       "      <td>...</td>\n",
       "      <td>...</td>\n",
       "      <td>...</td>\n",
       "      <td>...</td>\n",
       "      <td>...</td>\n",
       "    </tr>\n",
       "    <tr>\n",
       "      <th>3958</th>\n",
       "      <td>C1503-ZAF003-006</td>\n",
       "      <td>9</td>\n",
       "      <td>9</td>\n",
       "      <td>9</td>\n",
       "      <td>9</td>\n",
       "      <td>9</td>\n",
       "    </tr>\n",
       "    <tr>\n",
       "      <th>3960</th>\n",
       "      <td>C1503-ZAF003-007</td>\n",
       "      <td>9</td>\n",
       "      <td>9</td>\n",
       "      <td>9</td>\n",
       "      <td>9</td>\n",
       "      <td>9</td>\n",
       "    </tr>\n",
       "    <tr>\n",
       "      <th>3962</th>\n",
       "      <td>C1503-ZAF003-008</td>\n",
       "      <td>9</td>\n",
       "      <td>9</td>\n",
       "      <td>9</td>\n",
       "      <td>9</td>\n",
       "      <td>9</td>\n",
       "    </tr>\n",
       "    <tr>\n",
       "      <th>3964</th>\n",
       "      <td>C1503-ZAF003-009</td>\n",
       "      <td>9</td>\n",
       "      <td>9</td>\n",
       "      <td>9</td>\n",
       "      <td>9</td>\n",
       "      <td>9</td>\n",
       "    </tr>\n",
       "    <tr>\n",
       "      <th>3965</th>\n",
       "      <td>C1503-ZAF003-010</td>\n",
       "      <td>9</td>\n",
       "      <td>9</td>\n",
       "      <td>9</td>\n",
       "      <td>9</td>\n",
       "      <td>9</td>\n",
       "    </tr>\n",
       "  </tbody>\n",
       "</table>\n",
       "<p>1496 rows × 6 columns</p>\n",
       "</div>"
      ],
      "text/plain": [
       "                subjid pqeq5d1 pqeq5d2 pqeq5d3 pqeq5d4 pqeq5d5\n",
       "0     C1503-AUS012-012       1       1       2       1       1\n",
       "2     C1503-AUS012-013       1       1       1       1       1\n",
       "4     C1503-AUS012-014       1       1       1       1       1\n",
       "6     C1503-AUS020-017       1       1       1       2       2\n",
       "9     C1503-AUS026-043       1       1       1       2       2\n",
       "...                ...     ...     ...     ...     ...     ...\n",
       "3958  C1503-ZAF003-006       9       9       9       9       9\n",
       "3960  C1503-ZAF003-007       9       9       9       9       9\n",
       "3962  C1503-ZAF003-008       9       9       9       9       9\n",
       "3964  C1503-ZAF003-009       9       9       9       9       9\n",
       "3965  C1503-ZAF003-010       9       9       9       9       9\n",
       "\n",
       "[1496 rows x 6 columns]"
      ]
     },
     "execution_count": 388,
     "metadata": {},
     "output_type": "execute_result"
    }
   ],
   "source": [
    "# read data\n",
    "eq5d = pd.read_csv('{}/{}.csv'.format(path, \"EQ5D\"))\n",
    "\n",
    "# get relevant rows\n",
    "eq5d = eq5d[eq5d['visit']==\"Screening 2.0\"]\n",
    "\n",
    "# check if eq5d questionnaire is available for each patient\n",
    "if len(eq5d) == len(enrol):\n",
    "    print(\"For each of patient eq5d questionnaire given.\".format(len(eq5d)))\n",
    "else:\n",
    "    print(\"For {0} patients eq5d questionnaire(s) are missing.\".format(len(enrol)-len(eq5d)))\n",
    "\n",
    "# delete useless columns from enrol information\n",
    "eq5d.drop(cols_2_drop, axis=1,inplace=True) # general cols\n",
    "eq5d.drop([\"pqeq5d6nd\",\"pqeq5d6\"], axis=1, inplace=True) #eq5d specific\n",
    "\n",
    "# map alphanumerical categories to numbers\n",
    "mobility_mapping = {'I have no problems in walking about': 1, \n",
    "                    'I have some problems in walking about' : 2,\n",
    "                    'I am confined to bed' : 3,\n",
    "                    'Patient did not answer': 9}\n",
    "eq5d.loc[~eq5d['pqeq5d1'].isna(), 'pqeq5d1'] = eq5d.loc[~eq5d['pqeq5d1'].isna(), 'pqeq5d1'].map(mobility_mapping).astype(int)\n",
    "eq5d.loc[eq5d['pqeq5d1'].isna() & (eq5d[\"pqeq5yn\"] == \"No\"), 'pqeq5d1'] = 9\n",
    "\n",
    "selfcare_mapping = {'I have no problems with self-care': 1, \n",
    "                    'I have some problems washing or dressing myself' : 2,\n",
    "                    'I am unable to wash or dress myself' : 3,\n",
    "                    'Patient did not answer': 9}\n",
    "eq5d.loc[~eq5d['pqeq5d2'].isna(), 'pqeq5d2'] = eq5d.loc[~eq5d['pqeq5d2'].isna(), 'pqeq5d2'].map(selfcare_mapping).astype(int)\n",
    "eq5d.loc[eq5d['pqeq5d2'].isna() & (eq5d[\"pqeq5yn\"] == \"No\"), 'pqeq5d2'] = 9\n",
    "\n",
    "activity_mapping = {'I have no problems with performing my usual activities': 1, \n",
    "                    'I have some problems with performing my usual activities' : 2,\n",
    "                    'I am unable to perform my usual activities' : 3,\n",
    "                    'Patient did not answer': 9}\n",
    "eq5d.loc[~eq5d['pqeq5d3'].isna(), 'pqeq5d3'] = eq5d.loc[~eq5d['pqeq5d3'].isna(), 'pqeq5d3'].map(activity_mapping).astype(int)\n",
    "eq5d.loc[eq5d['pqeq5d3'].isna() & (eq5d[\"pqeq5yn\"] == \"No\"), 'pqeq5d3'] = 9\n",
    "\n",
    "pain_mapping = {'I have no pain or discomfort': 1, \n",
    "                'I have moderate pain or discomfort' : 2,\n",
    "                'I have extreme pain or discomfort' : 3,\n",
    "                'Patient did not answer': 9}\n",
    "eq5d.loc[~eq5d['pqeq5d4'].isna(), 'pqeq5d4'] = eq5d.loc[~eq5d['pqeq5d4'].isna(), 'pqeq5d4'].map(pain_mapping).astype(int)\n",
    "eq5d.loc[eq5d['pqeq5d4'].isna() & (eq5d[\"pqeq5yn\"] == \"No\"), 'pqeq5d4'] = 9\n",
    "\n",
    "depression_mapping = {'I am not anxious or depressed': 1, \n",
    "                      'I am moderately anxious or depressed' : 2,\n",
    "                      'I am extremely anxious or depressed' : 3,\n",
    "                      'Patient did not answer': 9}\n",
    "eq5d.loc[~eq5d['pqeq5d5'].isna(), 'pqeq5d5'] = eq5d.loc[~eq5d['pqeq5d5'].isna(), 'pqeq5d5'].map(depression_mapping).astype(int)\n",
    "eq5d.loc[eq5d['pqeq5d5'].isna() & (eq5d[\"pqeq5yn\"] == \"No\"), 'pqeq5d5'] = 9\n",
    "\n",
    "eq5d.drop([\"pqeq5yn\"], axis=1, inplace=True) #eq5d specific\n",
    "\n",
    "# check missigness in data\n",
    "null_counts = np.round(eq5d.isnull().sum()/len(eq5d),2)\n",
    "print(\"Missing value are:\")\n",
    "print(null_counts[null_counts > 0.0])\n",
    "eq5d\n"
   ]
  },
  {
   "cell_type": "code",
   "execution_count": null,
   "metadata": {},
   "outputs": [],
   "source": []
  },
  {
   "cell_type": "markdown",
   "metadata": {},
   "source": [
    "Every time pqeq5yn == No (= no EQ5D performed) we could assign \"Patient did not answer\" to all the other variables.<br>\n",
    "**Question: How to handle fact, that information is just available for 75% of the patients.** Is there a bias of eq5d with the primary outcome? If not - maybe is it droppable as information completely. "
   ]
  },
  {
   "cell_type": "code",
   "execution_count": 418,
   "metadata": {},
   "outputs": [
    {
     "data": {
      "text/html": [
       "<div>\n",
       "<style scoped>\n",
       "    .dataframe tbody tr th:only-of-type {\n",
       "        vertical-align: middle;\n",
       "    }\n",
       "\n",
       "    .dataframe tbody tr th {\n",
       "        vertical-align: top;\n",
       "    }\n",
       "\n",
       "    .dataframe thead th {\n",
       "        text-align: right;\n",
       "    }\n",
       "</style>\n",
       "<table border=\"1\" class=\"dataframe\">\n",
       "  <thead>\n",
       "    <tr style=\"text-align: right;\">\n",
       "      <th></th>\n",
       "      <th>TLF</th>\n",
       "      <th>pqeq5d1</th>\n",
       "    </tr>\n",
       "  </thead>\n",
       "  <tbody>\n",
       "    <tr>\n",
       "      <th>0</th>\n",
       "      <td>0</td>\n",
       "      <td>1</td>\n",
       "    </tr>\n",
       "    <tr>\n",
       "      <th>1</th>\n",
       "      <td>0</td>\n",
       "      <td>1</td>\n",
       "    </tr>\n",
       "    <tr>\n",
       "      <th>2</th>\n",
       "      <td>0</td>\n",
       "      <td>1</td>\n",
       "    </tr>\n",
       "    <tr>\n",
       "      <th>3</th>\n",
       "      <td>0</td>\n",
       "      <td>1</td>\n",
       "    </tr>\n",
       "    <tr>\n",
       "      <th>4</th>\n",
       "      <td>0</td>\n",
       "      <td>1</td>\n",
       "    </tr>\n",
       "    <tr>\n",
       "      <th>...</th>\n",
       "      <td>...</td>\n",
       "      <td>...</td>\n",
       "    </tr>\n",
       "    <tr>\n",
       "      <th>1491</th>\n",
       "      <td>0</td>\n",
       "      <td>9</td>\n",
       "    </tr>\n",
       "    <tr>\n",
       "      <th>1492</th>\n",
       "      <td>0</td>\n",
       "      <td>9</td>\n",
       "    </tr>\n",
       "    <tr>\n",
       "      <th>1493</th>\n",
       "      <td>0</td>\n",
       "      <td>9</td>\n",
       "    </tr>\n",
       "    <tr>\n",
       "      <th>1494</th>\n",
       "      <td>0</td>\n",
       "      <td>9</td>\n",
       "    </tr>\n",
       "    <tr>\n",
       "      <th>1495</th>\n",
       "      <td>0</td>\n",
       "      <td>9</td>\n",
       "    </tr>\n",
       "  </tbody>\n",
       "</table>\n",
       "<p>1496 rows × 2 columns</p>\n",
       "</div>"
      ],
      "text/plain": [
       "      TLF pqeq5d1\n",
       "0       0       1\n",
       "1       0       1\n",
       "2       0       1\n",
       "3       0       1\n",
       "4       0       1\n",
       "...   ...     ...\n",
       "1491    0       9\n",
       "1492    0       9\n",
       "1493    0       9\n",
       "1494    0       9\n",
       "1495    0       9\n",
       "\n",
       "[1496 rows x 2 columns]"
      ]
     },
     "execution_count": 418,
     "metadata": {},
     "output_type": "execute_result"
    },
    {
     "data": {
      "image/png": "[encoded data removed]",
      "text/plain": [
       "<Figure size 432x288 with 1 Axes>"
      ]
     },
     "metadata": {
      "needs_background": "light"
     },
     "output_type": "display_data"
    }
   ],
   "source": [
    "# analyse if there is any bias between eq5d questionnaire and primary outcome TLF\n",
    "tmp = pd.merge(eq5d, outcome, on=(\"subjid\")).groupby([\"TLD\",\"iscs\"]).size().reset_index(name='count')\n"
   ]
  },
  {
   "cell_type": "markdown",
   "metadata": {},
   "source": [
    "## Process baseline data"
   ]
  },
  {
   "cell_type": "code",
   "execution_count": 327,
   "metadata": {},
   "outputs": [
    {
     "ename": "KeyError",
     "evalue": "'studyid'",
     "output_type": "error",
     "traceback": [
      "\u001b[1;31m---------------------------------------------------------------------------\u001b[0m",
      "\u001b[1;31mKeyError\u001b[0m                                  Traceback (most recent call last)",
      "\u001b[1;32m<ipython-input-327-ba1e8bf5ede8>\u001b[0m in \u001b[0;36m<module>\u001b[1;34m\u001b[0m\n\u001b[0;32m     54\u001b[0m         \u001b[0mdf\u001b[0m\u001b[1;33m,\u001b[0m\u001b[1;33m\u001b[0m\u001b[1;33m\u001b[0m\u001b[0m\n\u001b[0;32m     55\u001b[0m         \u001b[0mon\u001b[0m\u001b[1;33m=\u001b[0m\u001b[1;33m(\u001b[0m\u001b[1;34m\"studyid\"\u001b[0m\u001b[1;33m,\u001b[0m\u001b[1;34m\"subjid\"\u001b[0m\u001b[1;33m,\u001b[0m\u001b[1;34m\"siteid\"\u001b[0m\u001b[1;33m)\u001b[0m\u001b[1;33m,\u001b[0m\u001b[1;33m\u001b[0m\u001b[1;33m\u001b[0m\u001b[0m\n\u001b[1;32m---> 56\u001b[1;33m         \u001b[0mhow\u001b[0m\u001b[1;33m=\u001b[0m\u001b[1;34m'outer'\u001b[0m\u001b[1;33m\u001b[0m\u001b[1;33m\u001b[0m\u001b[0m\n\u001b[0m\u001b[0;32m     57\u001b[0m     )\n",
      "\u001b[1;32mc:\\users\\elly\\appdata\\local\\programs\\python\\python37\\lib\\site-packages\\pandas\\core\\reshape\\merge.py\u001b[0m in \u001b[0;36mmerge\u001b[1;34m(left, right, how, on, left_on, right_on, left_index, right_index, sort, suffixes, copy, indicator, validate)\u001b[0m\n\u001b[0;32m     84\u001b[0m         \u001b[0mcopy\u001b[0m\u001b[1;33m=\u001b[0m\u001b[0mcopy\u001b[0m\u001b[1;33m,\u001b[0m\u001b[1;33m\u001b[0m\u001b[1;33m\u001b[0m\u001b[0m\n\u001b[0;32m     85\u001b[0m         \u001b[0mindicator\u001b[0m\u001b[1;33m=\u001b[0m\u001b[0mindicator\u001b[0m\u001b[1;33m,\u001b[0m\u001b[1;33m\u001b[0m\u001b[1;33m\u001b[0m\u001b[0m\n\u001b[1;32m---> 86\u001b[1;33m         \u001b[0mvalidate\u001b[0m\u001b[1;33m=\u001b[0m\u001b[0mvalidate\u001b[0m\u001b[1;33m,\u001b[0m\u001b[1;33m\u001b[0m\u001b[1;33m\u001b[0m\u001b[0m\n\u001b[0m\u001b[0;32m     87\u001b[0m     )\n\u001b[0;32m     88\u001b[0m     \u001b[1;32mreturn\u001b[0m \u001b[0mop\u001b[0m\u001b[1;33m.\u001b[0m\u001b[0mget_result\u001b[0m\u001b[1;33m(\u001b[0m\u001b[1;33m)\u001b[0m\u001b[1;33m\u001b[0m\u001b[1;33m\u001b[0m\u001b[0m\n",
      "\u001b[1;32mc:\\users\\elly\\appdata\\local\\programs\\python\\python37\\lib\\site-packages\\pandas\\core\\reshape\\merge.py\u001b[0m in \u001b[0;36m__init__\u001b[1;34m(self, left, right, how, on, left_on, right_on, axis, left_index, right_index, sort, suffixes, copy, indicator, validate)\u001b[0m\n\u001b[0;32m    625\u001b[0m             \u001b[0mself\u001b[0m\u001b[1;33m.\u001b[0m\u001b[0mright_join_keys\u001b[0m\u001b[1;33m,\u001b[0m\u001b[1;33m\u001b[0m\u001b[1;33m\u001b[0m\u001b[0m\n\u001b[0;32m    626\u001b[0m             \u001b[0mself\u001b[0m\u001b[1;33m.\u001b[0m\u001b[0mjoin_names\u001b[0m\u001b[1;33m,\u001b[0m\u001b[1;33m\u001b[0m\u001b[1;33m\u001b[0m\u001b[0m\n\u001b[1;32m--> 627\u001b[1;33m         ) = self._get_merge_keys()\n\u001b[0m\u001b[0;32m    628\u001b[0m \u001b[1;33m\u001b[0m\u001b[0m\n\u001b[0;32m    629\u001b[0m         \u001b[1;31m# validate the merge keys dtypes. We may need to coerce\u001b[0m\u001b[1;33m\u001b[0m\u001b[1;33m\u001b[0m\u001b[1;33m\u001b[0m\u001b[0m\n",
      "\u001b[1;32mc:\\users\\elly\\appdata\\local\\programs\\python\\python37\\lib\\site-packages\\pandas\\core\\reshape\\merge.py\u001b[0m in \u001b[0;36m_get_merge_keys\u001b[1;34m(self)\u001b[0m\n\u001b[0;32m    994\u001b[0m                         \u001b[0mright_keys\u001b[0m\u001b[1;33m.\u001b[0m\u001b[0mappend\u001b[0m\u001b[1;33m(\u001b[0m\u001b[0mrk\u001b[0m\u001b[1;33m)\u001b[0m\u001b[1;33m\u001b[0m\u001b[1;33m\u001b[0m\u001b[0m\n\u001b[0;32m    995\u001b[0m                     \u001b[1;32mif\u001b[0m \u001b[0mlk\u001b[0m \u001b[1;32mis\u001b[0m \u001b[1;32mnot\u001b[0m \u001b[1;32mNone\u001b[0m\u001b[1;33m:\u001b[0m\u001b[1;33m\u001b[0m\u001b[1;33m\u001b[0m\u001b[0m\n\u001b[1;32m--> 996\u001b[1;33m                         \u001b[0mleft_keys\u001b[0m\u001b[1;33m.\u001b[0m\u001b[0mappend\u001b[0m\u001b[1;33m(\u001b[0m\u001b[0mleft\u001b[0m\u001b[1;33m.\u001b[0m\u001b[0m_get_label_or_level_values\u001b[0m\u001b[1;33m(\u001b[0m\u001b[0mlk\u001b[0m\u001b[1;33m)\u001b[0m\u001b[1;33m)\u001b[0m\u001b[1;33m\u001b[0m\u001b[1;33m\u001b[0m\u001b[0m\n\u001b[0m\u001b[0;32m    997\u001b[0m                         \u001b[0mjoin_names\u001b[0m\u001b[1;33m.\u001b[0m\u001b[0mappend\u001b[0m\u001b[1;33m(\u001b[0m\u001b[0mlk\u001b[0m\u001b[1;33m)\u001b[0m\u001b[1;33m\u001b[0m\u001b[1;33m\u001b[0m\u001b[0m\n\u001b[0;32m    998\u001b[0m                     \u001b[1;32melse\u001b[0m\u001b[1;33m:\u001b[0m\u001b[1;33m\u001b[0m\u001b[1;33m\u001b[0m\u001b[0m\n",
      "\u001b[1;32mc:\\users\\elly\\appdata\\local\\programs\\python\\python37\\lib\\site-packages\\pandas\\core\\generic.py\u001b[0m in \u001b[0;36m_get_label_or_level_values\u001b[1;34m(self, key, axis)\u001b[0m\n\u001b[0;32m   1690\u001b[0m             \u001b[0mvalues\u001b[0m \u001b[1;33m=\u001b[0m \u001b[0mself\u001b[0m\u001b[1;33m.\u001b[0m\u001b[0maxes\u001b[0m\u001b[1;33m[\u001b[0m\u001b[0maxis\u001b[0m\u001b[1;33m]\u001b[0m\u001b[1;33m.\u001b[0m\u001b[0mget_level_values\u001b[0m\u001b[1;33m(\u001b[0m\u001b[0mkey\u001b[0m\u001b[1;33m)\u001b[0m\u001b[1;33m.\u001b[0m\u001b[0m_values\u001b[0m\u001b[1;33m\u001b[0m\u001b[1;33m\u001b[0m\u001b[0m\n\u001b[0;32m   1691\u001b[0m         \u001b[1;32melse\u001b[0m\u001b[1;33m:\u001b[0m\u001b[1;33m\u001b[0m\u001b[1;33m\u001b[0m\u001b[0m\n\u001b[1;32m-> 1692\u001b[1;33m             \u001b[1;32mraise\u001b[0m \u001b[0mKeyError\u001b[0m\u001b[1;33m(\u001b[0m\u001b[0mkey\u001b[0m\u001b[1;33m)\u001b[0m\u001b[1;33m\u001b[0m\u001b[1;33m\u001b[0m\u001b[0m\n\u001b[0m\u001b[0;32m   1693\u001b[0m \u001b[1;33m\u001b[0m\u001b[0m\n\u001b[0;32m   1694\u001b[0m         \u001b[1;31m# Check for duplicates\u001b[0m\u001b[1;33m\u001b[0m\u001b[1;33m\u001b[0m\u001b[1;33m\u001b[0m\u001b[0m\n",
      "\u001b[1;31mKeyError\u001b[0m: 'studyid'"
     ]
    }
   ],
   "source": [
    "# process baseline data\n",
    "\n",
    "baseline_data = enrol\n",
    "\n",
    "\n",
    "for file in file_abr_baseline:\n",
    "    df = pd.read_csv('{}/{}.csv'.format(path, file))\n",
    "    # cast EQ5D table\n",
    "    if file is 'EQ5D':\n",
    "        df = df[df['visit']==\"Screening 2.0\"]\n",
    "    # cast ECG\n",
    "    elif file is 'ECG':\n",
    "        df = df[\n",
    "            (df[\"visit\"] == \"Screening\") |\n",
    "            (df[\"visit\"] == \"Screening 2.0\")\n",
    "        ]\n",
    "    # cast LC\n",
    "    elif file is 'LC':\n",
    "        df = df[\n",
    "            [\n",
    "                \"siteid\",\"studyid\",\"subjid\",\n",
    "                \"lccassmap\",\"lcid\",\"lclesloc\",\n",
    "                \"lcvessel\",\"lctimipr\",\"lcaccaha\",\n",
    "                \"lccalccs\",\"lcvangul\",\"lctortsy\",\n",
    "                \"lcbifurc\",\"lcecntry\",\"lcthrmbs\",\n",
    "                \"lclenv\",\"lcrvdv\",\"lcdsv\"\n",
    "            ]\n",
    "        ]\n",
    "    # cast CMPROC\n",
    "    elif file is 'CMPROC':\n",
    "        df = df[\n",
    "            [\n",
    "                \"siteid\",\"studyid\",\"subjid\",\n",
    "                \"cmasapp\",\"cmasappd\",\"cmasappu\",\n",
    "                \"cmasappdut\",\"cmheppp\",\"cmhepppd\",\n",
    "                \"cmhepppu\",\"cmheppput\",\"cmplt\",\n",
    "                \"cmpltt\",\"cmpltpp\",\"cmpltppd\",\n",
    "                \"cmpltppu\",\"cmpltpput\",\"cmpltld\",\n",
    "                \"cmpltldd\",\"cmpltldu\",\"cmpltldut\"\n",
    "            ]\n",
    "        ]\n",
    "    \n",
    "    df.drop(\n",
    "        [\n",
    "            \"record_id\",\"record_status\",\"record_status_text\",\n",
    "            \"parent_record_id\",\"interval_name\",\"visit\"\n",
    "        ],\n",
    "        axis=1,\n",
    "        inplace=True,\n",
    "        errors='ignore'\n",
    "    )  \n",
    "    baseline_data = pd.merge(\n",
    "        baseline_data,\n",
    "        df,\n",
    "        on=(\"studyid\",\"subjid\",\"siteid\"),\n",
    "        how='outer'\n",
    "    )\n"
   ]
  },
  {
   "cell_type": "markdown",
   "metadata": {},
   "source": [
    "Attention: The above dataframe can contain for ONE patient multiple rows with more less the same information. That occurs because on patient can have for example two target lesions that are characterized. When working with data: always group by \"subjid\"."
   ]
  }
 ],
 "metadata": {
  "kernelspec": {
   "display_name": "Python 3",
   "language": "python",
   "name": "python3"
  },
  "language_info": {
   "codemirror_mode": {
    "name": "ipython",
    "version": 3
   },
   "file_extension": ".py",
   "mimetype": "text/x-python",
   "name": "python",
   "nbconvert_exporter": "python",
   "pygments_lexer": "ipython3",
   "version": "3.7.1"
  }
 },
 "nbformat": 4,
 "nbformat_minor": 4
}
