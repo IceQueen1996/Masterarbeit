{
 "cells": [
  {
   "cell_type": "markdown",
   "metadata": {},
   "source": [
    "# Problem definition for Biotronik Magmaris Study\n",
    "\n",
    "## Medical Background\n",
    "According to The World Health Organization (WHO) ischaemic heart disease is a leading cause of death worldwide [ https://www.who.int/news-room/fact-sheets/detail/the-top-10-causes-of-death ]. According to projections, the proportion of people over the age of 65 in the population will increase to around 20% by 2030 and associated cardiovascular disease will be responsible for 40% of deaths [ North BJ, Sinclair DA. The intersection between aging and cardiovascular disease. Circ Res 2012;110:1097–1108 ]. Because of longer life expectancy, the economic burden of CAD is expected to increase. To avoid this, less risky technologies are now needed in individual areas of ischaemic heart disease [ https://www.sciencedirect.com/science/article/pii/S0002934311002956 ]. One starting point is to reduce the risk associated with CAD. Patients suffering from CAD have a restricted blood flow to the heart caused by atherosclerosis [ https://www.ncbi.nlm.nih.gov/pmc/articles/PMC4958723/ ]. Depending on the degree of stenosis (narrowing) and the plaque properties, stable angina (angina pectoris) can occur in patients or they remain asymptomatic until plaque breaks and thrombosis occurs, which causes acute coronary syndrome (ACS) [ https://www.ahajournals.org/doi/full/10.1161/CIRCULATIONAHA.105.537878 ].\n",
    "\n",
    "\n",
    "Coronary stents are the default devices for the treatment of coronary artery disease (CAD) in percutaneous coronary intervention (PCI) according to existing guidelines [ https://pubmed.ncbi.nlm.nih.gov/29905796/ ]. Different stent technologies try to overcome the main limitations of current permanent stents - thrombosis and restenosis [ https://pubmed.ncbi.nlm.nih.gov/26431767/ , https://onlinelibrary.wiley.com/doi/abs/10.1002/ccd.21176 ]. Restenosis is the re-narrowing of the vessel following the treatment of a prior stenosis [https://www.sciencedirect.com/science/article/pii/B9780721694283500305]. Stent thrombosis is an acute thrombotic occlusion of an artery within an implanted stent which occurs suddenly. It leads to a sudden circulatory disorder and is therefore a potentially life-threatening event. It has a low incidence but high mortality [ https://pubmed.ncbi.nlm.nih.gov/19854727/ ]. Evolved from Bare Metal Stents (BMSs) (bare metal stents), Drug Eluting Stents (DESs) reduce cell proliferation inside the stent and treats the complication of early restenosis because of the antiproliferative drug coats scaffold [ https://pubmed.ncbi.nlm.nih.gov/16785479/ ] leading to a significant reduction of restenosis rate and therefore to a reduces repeat revascularization rate. DESs can not overcome the issue of late (>30 days) and very late (>12 month) stent trombosis in spite of prolonged dual antiplatelete therapy [ https://pubmed.ncbi.nlm.nih.gov/17325255/ , https://pubmed.ncbi.nlm.nih.gov/20031649/ , https://pubmed.ncbi.nlm.nih.gov/17510464/ ]. \n",
    "\n",
    "Fully biodegradable/bioreorbable scaffolds (BRSs) are considered as the fourth revolution in interventional cardiology [ doi: 10.1253/circj.cj-10-1135 ]. They were introduces to overcome long-term events associated with BMSS or DESs. The main advantages of implanting BRSs are the fully restoration of vessel anatomy, reduction of late events due to liberation from permanent metal cage, restoration of low thrombogenic millieu resulting in reduced thrombosis rate as foreign material will be resorbed and potential elimination of neoatheroscleros [ https://europepmc.org/article/med/23332165 , https://onlinelibrary.wiley.com/doi/full/10.1002/clc.22451 , https://heart.bmj.com/content/91/12/1604 , https://doi.org/10.1161/CIRCINTERVENTIONS.117.005663 , https://pubmed.ncbi.nlm.nih.gov/21343594/ ]. Despite the many benefits that BRS should bring to the treatment of PCI, the first enthusiasm was dampened due to elevated scaffold thrombosis and target lesion failure (TLF) rates prior to bioresorption  in polymeric BRS. This led to security concerns of the new technology [ https://europepmc.org/article/med/28844034/ , https://pubmed.ncbi.nlm.nih.gov/28408454/ ].\n",
    "\n",
    "As one of the world's leading manufacturers of cardiovascular medical technology with its headquarters in Berlin, BIOTRONIK is present in over 100 countries with more than 5,600 employees. Millions of implanted BIOTRONIK products help to improve the quality of life of heart patients and save lives worldwide. Their guiding principle “excellence for life” is reflected in everything they do. Since the development of the first german pacemaker in 1963, BIOTRONIK has brought numerous innovations onto the market, including telemedical aftercare with BIOTRONIK Home Monitoring® in 2000 and in 2012 the world's first implantable defibrillators and implants for heart failure therapy using ProMRI® technology are approved for MRI scans. With Orsiro®, the company set the milestone for a new DES gold standard in 2013 and significantly advanced the therapeutic options for CAD in PCI. <br> \n",
    "BIOTRONIK has gone one step further with its latest stent technology, the magmaris sirolimus-eluting metal BRS (BIOTRONIK AG, Bülach Switzerland). It tries to alleviate the safety concerns regarding the usage of BRS in patients. Magmaris® is the first clinically proven metal scaffold to be CE certified in June 2016. Unlike polymeric stents, its scaffold material consists of a proprietary magnesium alloy leading to a robust magnesium backbone. This is one of the advantages Magmaris have, because the mechanical strength of magnesium is superior to polymers like Poly-L-Lactide (PLLA) [ https://link.springer.com/article/10.1186/s40824-016-0054-6 ]. An already tested advanced technology showing extremely good results at Biotronik's gold standard stent Orsiro is also used again at Magmaris. The active coat consists of BIOlute. BIOlute consists of the most proven limus family drug and a bioabsorbable polymer matrix (PLLA) which achieves a controlled drug release up to 90 days. Immediately following implantation the drug elution from BIOlute starts. The gentle break down of the BIOlutepolymer matrix into CO2 and H2O causes minimal tissue burden and avoids inflammation [https://www.ncbi.nlm.nih.gov/pmc/articles/PMC3842627/]. The absorption time of the scaffold is about one year [ https://www.biotronik.com/de-de/products/coronary/magmaris ]. <br>\n",
    "They gain confidence in the product through evidence. Safety and good performance of Magmaris were shown in the BIOSOLVE-II and -III permarket study. The TLF rate after 24 months of Magmaris implantation is 5.5% and a definite/probable scaffold thrombosis rate of 0.0% with a patient count of 180 [ https://ris.utwente.nl/ws/portalfiles/portal/60986172/Haude2017sustained.pdf , https://doi.org/10.1002/ccd.27680 ]. A post-market study startet with BIOSOVE-IV with the aim to collect data to proof the theoratical seen advantages of metal scaffolds over polymeric ones in in-vitro tests [ https://www.sciencedirect.com/science/article/pii/S1553838916301142 ]. It is a prospective, single-arm, multicenter, open label registry which aimes to investigate the clinical performance and long-term safety of Magmaris in a real world setting with patients having symptomatic coronary artery disease and individual de novo native coronary artery lesions [ Safety and Performance in de NOvo Lesion of NatiVE Coronary Arteries With Magmaris Registry: BIOSOLVE-IV. Accessed March 21, 2017. Available online: https://clinicaltrials.gov/ct2/show/NCT02817802 , https://www.ncbi.nlm.nih.gov/pmc/articles/PMC5583079/ ]. The study is open for male and female subjects which are at least 18 years old. However, it includes  patients with complex lesions with the exception of occlusions. There are just a few exclusion critera: pregnancy, allergy and dialysis [ https://clinicaltrials.gov/ct2/show/NCT02817802 ]. BIOSOLVE-IV enrolled at this timepoint 1985 patients from all over the world.\n",
    "\n",
    "\n",
    "\n",
    "\n",
    "## Technical Background: ML in medical research\n",
    "ML methods are becoming more common and present in medicine and different medical research fields (e.g liver disease [ https://doi.org/10.1016/j.eswa.2016.08.065 , https://www.scopus.com/record/display.uri?eid=2-s2.0-85053879851&origin=inward&txGid=6b50773a685b65056010d86f7baeda41 ], electrocardiogram (ECG) signals of the human heart [ https://doi.org/10.1016/j.swevo.2017.10.002 , https://doi.org/10.1016/j.eswa.2017.09.022 ], Parkinson's disease [ https://www.sciencedirect.com/science/article/abs/pii/S0167739X1731631X , https://www.scopus.com/record/display.uri?eid=2-s2.0-85058638293&origin=inward&txGid=12481cd68f338d5602a0d02fe1176444 ] or skin disease [ https://www.scopus.com/inward/record.url?eid=2-s2.0-85067055590&partnerID=10&rel=R3.0.0 , https://doi.org/10.1111/ijd.13535 , journals.elsevier.com/computers-in-biology-and-medicine ]) for purposes such as automating repetitive tasks, screening, risk stratification, prediction, assisted decision-making and delivering individually adapted medical care [ https://doi.org/10.3233/FDE-150031 , https://parasitesandvectors.biomedcentral.com/articles/10.1186/1756-3305-7-307 , https://stm.sciencemag.org/content/7/273/273re1 , https://www.nature.com/articles/s41551-016-0024 ]. ML methods, especially classification methods, are applicable to clinical databases including patient information and diagnostic statistics in which these algorithms can search large amounts of data and identify multivariable patterns that reliably predict outcomes of interest [ https://pubmed.ncbi.nlm.nih.gov/30943338/. , https://pubmed.ncbi.nlm.nih.gov/31255559/ , https://pubmed.ncbi.nlm.nih.gov/31611150/ , https://pubmed.ncbi.nlm.nih.gov/31787436/ ]. ML-based CAD diagnosis and treatment is not a novelity. There exists relevant studies about this topic since 1992 [ https://link.springer.com/article/10.1007/BF02414891 ]. The most important studies on the diagnosis of CAD via ML algorithms were conducted from 2012 to present day [ https://www.sciencedirect.com/science/article/pii/S001048251930215X ]. \n",
    "\n",
    "The more precisely the individual risk assessment is possible for each patient, the better physicians can adapt therapy options and pay closer attention to possible adverse events or complications. Under this proposal we will use pre-procedural patient information like daily available demographic, medical history, risk factors, previuos medication but also specific procedural information to discover whether there are early markers in the trajectory of the patient that leads to TLF. Discovery of such markers can help physicians to make appropriate actions earlier to reduce the number of adverse outcomes, especially TLF, and the complications of the these. With the help of the hopefully newly gained knowledge Biotronik hopes to regain the trust in the BRS technology.\n",
    "\n",
    "## Materials and Methods\n",
    "\n",
    "###  1 MAGMARIS: Device and Procedure\n",
    "\n",
    "Magmaris is a BRS providing controlled drug release up to 90 days. It is coated with sirolimus embedded in a PLLA polymer. The absorption time of the scaffold is about one year [ https://www.biotronik.com/de-de/products/coronary/magmaris ]. A safe and best possible implantation is ensured by the \"4P-guidelines\": Patient selection, Proper sizing, Pre- and Post-dilatation. Only patients with de novo lesions with a referece vessel diameter and lesion length closely matching the available Magmaris sizes are condisered in the BIOSOLVE-IV study (detailed information see Table 1). Magmaris availablilty ranges from diameters of 3.0 to 3.5mm and length of 15, 20, 25mm. Proper sizing refers to the minimum or maximum size of the reference vessel. A range between 27mm and 37mm is given as a reference value, in which Magmaris can be safely implanted. If vessels are smaller or larger the use of Magmaris is not recommended. In case of uncertainty, the \"4P implantation guideline\" sees a quantitative lesion evaluation with quantitative coronary angiography, intravascular ultrasound and/or optical coherence tomography, taking into account that angiograms are generally underestimate the vessel diameter by 0.25 mm generally. Pre- and post-dilatation are mandatory. Pre-dilatation is performed with a non-comliant balloon with a 1:1 balloon-to-artery ratio. The residual stenosis should not exceed 20%. It the first dilatation was unsuccessful, other balloon technologies should be used. Post-dilatation is also performed with a non-compliant balloon with high pressure (>16mm are recommended). The size of the balloon should be 0.5 mm larger than the implanted Magmaris. [ https://doi.org/10.1016/j.carrev.2019.02.003 ].\n",
    "\n",
    "![Patient selection](../plots/patient_selection.PNG)\n",
    "***Table 1:*** *Expert’s consensus on patient selection [ https://pubmed.ncbi.nlm.nih.gov/27639734/ ]*\n",
    "\n",
    "Figure 1 shows the details of a balloon dilatation used in the Magmaris \"4P-guideline\" and details about stent implantation in general. A balloon dilatation is performed as part of a coronary angiography. The first step is to make the coronary arteries visible using contrast media on the X-ray image so that the intervention can be followed on a screen. Then a thin, flexible guide wire is inserted to the narrowed region. A folded balloon catheter is correctly placed using the guide wire. In the next step of the procedure, the balloon is inflated at high pressure which stretches the blood vessel and flattens the deposits on the vessel walls. The high pressure is applied a few seconds (max. 1 minute). During the procedure the patient may suffer from chest pain or tightness feeling. The success of the procedure can be seen immediately on the monitor. In the end, balloon and catheter are revomed from the atery [ https://pubmed.ncbi.nlm.nih.gov/11737726/ ].<br>\n",
    "The scaffold implantion is similiar to the balloon dilatation. The main difference is the construction of the balloon catheter: \n",
    "The folded balloon is at the tip of this balloon catheter, as well as the stent that has not yet been expanded around the balloon. When the balloon is expanded, the stent is deployed to its intended extent and pressed into the vessel wall. While the balloon collapses, the stent remains in the vessel walls  [https://pubmed.ncbi.nlm.nih.gov/11737726/ , https://pubmed.ncbi.nlm.nih.gov/23293172/ ].\n",
    "\n",
    "\n",
    "![Procedure](../plots/Dilatation_Stent_Implantation.jpg)\n",
    "***Figure 1:*** *Procedure steps of balloon dilatation (A)[ https://www.herzerfrischend.info/ballondillation-und-stentimplantation/ ] and stent implantation (B)[ https://de.wikibooks.org/wiki/Innere_Medizin_kk:_stent#/media/Datei:PTCA_stent_NIH.gif ]*\n",
    "\n",
    "### 2 BIOSOLVE IV Study Design and Population\n",
    "BIOSOLVE-IV (Safety and Performance in de NOvo Lesion of NatiVE Coronary Arteries With Magmaris-Registry) is a prospective, single-arm, multicenter, open label registry. It aimes to investigate the clinical performance and long-term safety of Magmaris in a real world setting with patients having symptomatic coronary artery disease and individual de novo native coronary artery lesions [ Safety and Performance in de NOvo Lesion of NatiVE Coronary Arteries With Magmaris Registry: BIOSOLVE-IV. Accessed March 21, 2017. Available online: https://clinicaltrials.gov/ct2/show/NCT02817802 , https://www.ncbi.nlm.nih.gov/pmc/articles/PMC5583079/ ]. The study is open for male and female subjects which are at least 18 years old. Inclusion criteria are target lesion stenosis >50% and <100%, TIMI flow ≥1 and a referece vessel diameter between 2.7-3.7mm by visual estimation. However, it also includes  complex lesions with the exception of occlusions. There are just a few exclusion critera: pregnancy, allergy and dialysis [ https://clinicaltrials.gov/ct2/show/NCT02817802 ]. The patients for the clinical study come from all over the world. Participating countries are Australia, Austria, Belgium, Denmark, France, Germany, Hong Kong, Hungary, Israel, Italy, Latvia, Malaysia, New Zealand, Poland, Portugal, Singapore, South Africa, South Korea, Spain, Sweden, Switzerland, Taiwan, Thailand, The Netherlands, United Kingdom. \n",
    "\n",
    "BIOSOLVE-IV study collected data from consecutive Magmaris implantations starting with the first commercial implantations in June 2016 from 2065 (planned) patients. Magmaris could only be used by phyicians who completed a post-market evaluation form for at least 10 cases. <br>\n",
    "Data collection were not restricted through in- or exlusion criteria, were done via anonymized post-market evaluation\n",
    "forms and were not monitored. Patient sekectionm sizing, pre-and post dilatation, Magmaris implantation, performence outcome and planned dual antiplatelet (DAPT) are topics that were evaluated.\n",
    "\n",
    "\n",
    "Primary endpoint is TLF rate at 12 months. TLF is defined as a composite of emergent Coronary Artery Bypass Graft (CABG), clinically driven Target Lesion Revascularization (TLR), cardiac death (CD) and target vessel Myocardial Infarction (TV-MI). Device success, defined as a composite of final diameter stenosis of <30%, successful delivery of the scaffold to the target lesion site in the coronary artery, appropriate scaffold deployment, successful removal of the device, safe removal of the device in case of deployment failure, and also procedural success, defines as achievement of a final diameter stenosis of <30% without the occurrence of death, Q-wave or non-Q-wave MI, or TLR during the hospital stay of 3±2 days, are important secondary endpoints of the study [ http://jtd.amegroups.com/article/view/14977/html ].\n",
    "\n",
    "Available data to analyse primary and secondary endpoints can be seen in Table 2. One can devide the whole study in 4 different phases. The baseline (pre-procedural) information available for the patients, information about the procedure (steps, etc) and used materials (e.g. balloon size), postoperatively information until hospital discharge and follow up information.\n",
    "\n",
    "\n",
    "![registry_FU_overview](../plots/registry_FUP_overview.PNG)\n",
    "***Table 2:*** *Data overview. Variables are splittet into different buckets which in turn reflect different phases on a kind of time axis.*\n",
    "\n",
    "### 3 Statistical analysis\n",
    "The analysis is based on the intention-to-treat population, defined as patients in whom the scaffold entered the guiding catheter. Further, data analysis is based on the data available. Categorical datawere calculated\n",
    "using absolute and relative frequencies.\n",
    "\n"
   ]
  },
  {
   "cell_type": "markdown",
   "metadata": {},
   "source": [
    "# Define endpoints in the data\n",
    "TLF defined in the data (adverse event documentation, AE.csv), each of the events is counted as one TLF:\n",
    "- cardiac death: aedth = \"YES\" & aedthcs == \"Cardiac\"\n",
    "- CABG: aecabg = \"YES\"\n",
    "- clinically driven TLR: aerevasc == \"Target lesion revascularization\" & aerevasccld == \"Yes\"\n",
    "- targer vessel MI: (aemiehdef == \"Yes\" | aemiscaidef == \"Yes\") & aemibytv == \"Yes\")\n",
    "\n",
    "--> one patient can have more than one TLF\n",
    "\n",
    "Device sucess defined in the data (DEVICE.csv):\n",
    "- Successful delivery of the scaffold to the target lesion site in the coronary artery: ddstscfdeliver == \"Yes\"\n",
    "- Successful scaffold deployment: ddstscfdeploy == \"Yes\"\n",
    "- Successful removal of the delivery system: ddstscfremove == \"Yes\"\n",
    "- Safe removal of the device in case of deployment failure: ddstsafremove == \"Yes\"\n",
    "- Residual % stenosis: ddsteres <= 30\n",
    "\n",
    "Procedural success defined in the data (DEVICE.csv, AE.csv):\n",
    "- Residual % stenosis: DEVICE.csv[ddsteres] <= 30\n",
    "- no death: AE.csv[aedth] == \"Yes\" --> substract from total number of patients\n",
    "- TLR during the hospital stay of 3±2 days:  AE.csv[aerevasc] == \"Target lesion revascularization\" && AE.csv[aedays] <= 5 --> substract cases from total number of patients\n"
   ]
  },
  {
   "cell_type": "markdown",
   "metadata": {},
   "source": [
    "## Unnessary columns in each file\n",
    "\"record_id\",\"record_status\",\"record_status_text\", \"parent_record_id\",\"interval_name\",\"visit\""
   ]
  },
  {
   "cell_type": "code",
   "execution_count": null,
   "metadata": {},
   "outputs": [],
   "source": []
  }
 ],
 "metadata": {
  "kernelspec": {
   "display_name": "Python 3",
   "language": "python",
   "name": "python3"
  },
  "language_info": {
   "codemirror_mode": {
    "name": "ipython",
    "version": 3
   },
   "file_extension": ".py",
   "mimetype": "text/x-python",
   "name": "python",
   "nbconvert_exporter": "python",
   "pygments_lexer": "ipython3",
   "version": "3.7.1"
  }
 },
 "nbformat": 4,
 "nbformat_minor": 4
}
