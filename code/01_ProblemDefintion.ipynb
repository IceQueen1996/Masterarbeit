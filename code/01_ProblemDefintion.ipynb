{
 "cells": [
  {
   "attachments": {},
   "cell_type": "markdown",
   "metadata": {},
   "source": [
    "# Problem definition for Biotronik Magmaris Study\n",
    "\n",
    "## Medical Background\n",
    "According to The World Health Organization (WHO) ischaemic heart disease is a leading cause of death worldwide [ https://www.who.int/news-room/fact-sheets/detail/the-top-10-causes-of-death ]. According to projections, the proportion of people over the age of 65 in the population will increase to around 20% by 2030 and associated cardiovascular disease will be responsible for 40% of deaths [ North BJ, Sinclair DA. The intersection between aging and cardiovascular disease. Circ Res 2012;110:1097–1108 ]. Because of longer life expectancy, the economic burden of CAD is expected to increase. To avoid this, less risky technologies are now needed in individual areas of ischaemic heart disease [ https://www.sciencedirect.com/science/article/pii/S0002934311002956 ]. One starting point is to reduce the risk associated with CAD. Patients suffering from CAD have a restricted blood flow to the heart caused by atherosclerosis [ https://www.ncbi.nlm.nih.gov/pmc/articles/PMC4958723/ ]. Depending on the degree of stenosis (narrowing) and the plaque properties, stable angina (angina pectoris) can occur in patients or they remain asymptomatic until plaque breaks and thrombosis occurs, which causes acute coronary syndrome (ACS) [ https://www.ahajournals.org/doi/full/10.1161/CIRCULATIONAHA.105.537878 ].\n",
    "\n",
    "\n",
    "Coronary stents are the default devices for the treatment of coronary artery disease (CAD) in percutaneous coronary intervention (PCI) according to existing guidelines [ https://pubmed.ncbi.nlm.nih.gov/29905796/ ]. Different stent technologies try to overcome the main limitations of current permanent stents - thrombosis and restenosis [ https://pubmed.ncbi.nlm.nih.gov/26431767/ , https://onlinelibrary.wiley.com/doi/abs/10.1002/ccd.21176 ]. Evolved from Bare Metal Stents (BMSs) (bare metal stents), Drug Eluting Stents (DESs) reduce cell proliferation inside the stent and treats the complication of early restenosis because of the antiproliferative drug coats scaffold [ https://pubmed.ncbi.nlm.nih.gov/16785479/ ] leading to a significant reduction of restenosis rate and therefore to a reduces repeat revascularization rate. DESs can not overcome the issue of late (>30 days) and very late (>12 month) stent trombosis in spite of prolonged dual antiplatelete therapy [ https://pubmed.ncbi.nlm.nih.gov/17325255/ , https://pubmed.ncbi.nlm.nih.gov/20031649/ , https://pubmed.ncbi.nlm.nih.gov/17510464/ ]. Stent thrombosis occurs suddenly with acute life-threatening symptoms. It has a low incidence but high mortality [ https://pubmed.ncbi.nlm.nih.gov/19854727/ ]. \n",
    "\n",
    "Fully biodegradable/bioreorbable scaffolds (BRSs) are considered as the fourth revolution in interventional cardiology [ doi: 10.1253/circj.cj-10-1135 ]. They were introduces to overcome long-term events associated with BMSS or DESs. The main advantages of implanting BRSs are the fully restoration of vessel anatomy, reduction of late events due to liberation from permanent metal cage, restoration of low thrombogenic millieu resulting in reduced thrombosis rate as foreign material will be resorbed and potential elimination of neoatheroscleros [ https://europepmc.org/article/med/23332165 , https://onlinelibrary.wiley.com/doi/full/10.1002/clc.22451 , https://heart.bmj.com/content/91/12/1604 , https://doi.org/10.1161/CIRCINTERVENTIONS.117.005663 , https://pubmed.ncbi.nlm.nih.gov/21343594/ ]. Despite the many benefits that BRS should bring to the treatment of PCI, the first enthusiasm was dampened due to elevated scaffold thrombosis and target lesion failure (TLF) rates prior to bioresorption  in polymeric BRS. This led to security concerns of the new technology [ https://europepmc.org/article/med/28844034/ , https://pubmed.ncbi.nlm.nih.gov/28408454/ ].\n",
    "\n",
    "The magmaris sirolimus-eluting metal BRS (Biotronik AG, Bülachm Switzerland) tries to alleviate these safety concerns. Unlike polymeric scaffolds, it is made of magnesium. Magmaris is the first clinically proven metal scaffold to be CE certified in June 2016. Safety and good performance of Magmaris were shown in the BIOTRONIK-II and -III permarket study [ https://ris.utwente.nl/ws/portalfiles/portal/60986172/Haude2017sustained.pdf , https://doi.org/10.1002/ccd.27680 ]. Post-market data to proof the theoratical seen advantages of metal scaffolds over polymeric ones in in-vitro tests [ https://www.sciencedirect.com/science/article/pii/S1553838916301142 ] are rare to this timepoint and \n",
    "and not sufficiently analyzed for a final judgment.\n",
    "\n",
    "This project is using pre-procedural patient information like daily available demographic, medical history, risk factors, previuos medication but also procedural information to come up with an maschine learning algorithm to predict a patient's TLF risk for better follow-up treatments and, if necessary, closer monitoring. That can be an additional feature for the Magmaris for more safety and better performance.\n",
    "\n",
    "## Technical Background: ML in medical research\n",
    "Machine learning (ML) methods are becoming more common and present in medicine and different medical research fields (e.g liver disease [ https://doi.org/10.1016/j.eswa.2016.08.065 , https://www.scopus.com/record/display.uri?eid=2-s2.0-85053879851&origin=inward&txGid=6b50773a685b65056010d86f7baeda41 ], electrocardiogram (ECG) signals of the human heart [ https://doi.org/10.1016/j.swevo.2017.10.002 , https://doi.org/10.1016/j.eswa.2017.09.022 ], Parkinson's disease [ https://www.sciencedirect.com/science/article/abs/pii/S0167739X1731631X , https://www.scopus.com/record/display.uri?eid=2-s2.0-85058638293&origin=inward&txGid=12481cd68f338d5602a0d02fe1176444 ] or skin disease [ https://www.scopus.com/inward/record.url?eid=2-s2.0-85067055590&partnerID=10&rel=R3.0.0 , https://doi.org/10.1111/ijd.13535 , journals.elsevier.com/computers-in-biology-and-medicine ]) for purposes such as automating repetitive tasks, screening, risk stratification, prediction, assisted decision-making and delivering individually adapted medical care [ https://doi.org/10.3233/FDE-150031 , https://parasitesandvectors.biomedcentral.com/articles/10.1186/1756-3305-7-307 , https://stm.sciencemag.org/content/7/273/273re1 , https://www.nature.com/articles/s41551-016-0024 ]. ML methods, especially classification methods, are applicable to clinical databases including patient information and diagnostic statistics in which these algorithms can search large amounts of data and identify multivariable patterns that reliably predict outcomes of interest [ https://pubmed.ncbi.nlm.nih.gov/30943338/. , https://pubmed.ncbi.nlm.nih.gov/31255559/ , https://pubmed.ncbi.nlm.nih.gov/31611150/ , https://pubmed.ncbi.nlm.nih.gov/31787436/ ]. \n",
    "\n",
    "ML-based CAD diagnosis and treatment is not a novelity. There exists relevant studies about this topic since 1992 [ https://link.springer.com/article/10.1007/BF02414891 ]. The most important studies on the diagnosis of CAD via ML algorithms were conducted from 2012 to present day [ https://www.sciencedirect.com/science/article/pii/S001048251930215X ]. The aim of our study was to predict a patient's risk for TLF. We combined the use of daily available demographic, clinical, and angiographic data but also specific procedural information like happend adverse events or balloon and device specificaion.\n",
    "\n",
    "\n",
    "\n",
    "## MAGMARIS: Device and Procedure\n",
    "\n",
    "Magmaris is a BRS providing ontrolled drug release up to 90 days. It is coated with sirolimus embedded in a PLLA polymer. The absorption time of the scaffold is about one year [ https://www.biotronik.com/de-de/products/coronary/magmaris ]. A safe and best possible implantation is provided by the \"4P-guidelines\": Patient selection, Proper sizing, Pre- and Post-dilatation. Only patients with de novo lesions with a referece vessel diameter and lesion length closely matching the available Magmaris sizes are condisered in the BIOSOLVE-IV study (detailed information see Table 1). Magmaris availablilty ranges from diameters of 3.0 to 3.5mm and length of 15, 20, 25mm. Proper sizing refers to the minimum or maximum size of the reference vessel. A range between 27mm and 37mm is given as a reference value, in which Magmaris can be safely implanted. If vessels are smaller or larger the use of Magmaris is not recommended. In case of uncertainty, the \"4P implantation guideline\" sees a quantitative lesion evaluation with quantitative coronary angiography, intravascular ultrasound and/or optical coherence tomography, taking into account that angiograms are generally underestimate the vessel diameter by 0.25 mm generally. Pre- and post-dilatation are mandatory. Pre-dilatation is performed with a non-comliant balloon with a 1:1 balloon-to-artery ratio. The residual stenosis should not exceed 20%. It the first dilatation was unsuccessful, other balloon technologies should be used. Post-dilatation is also performed with a non-compliant balloon with high pressure (>16mm are recommended). The size of the balloon should be 0.5 mm larger than the implanted Magmaris. [ https://doi.org/10.1016/j.carrev.2019.02.003 ].\n",
    "\n",
    "![Patient selection](../plots/patient_selection.PNG)\n",
    "***Table 1:*** *Expert’s consensus on patient selection [ https://pubmed.ncbi.nlm.nih.gov/27639734/ ]*\n",
    "\n",
    "Figure 1 shows the details of a balloon dilatation used in the Magmaris \"4P-guideline\" and details about stent implantation in general. A balloon dilatation is performed as part of a coronary angiography. The first step is to make the coronary arteries visible using contrast media on the X-ray image so that the intervention can be followed on a screen. Then a thin, flexible guide wire is inserted to the narrowed region. A folded balloon catheter is correctly placed using the guide wire. In the next step of the procedure, the balloon is inflated at high pressure which stretches the blood vessel and flattens the deposits on the vessel walls. The high pressure is applied a few seconds (max. 1 minute). During the procedure the patient may suffer from chest pain or tightness feeling. The success of the procedure can be seen immediately on the monitor. In the end, balloon and catheter are revomed from the atery [ https://pubmed.ncbi.nlm.nih.gov/11737726/ ].<br>\n",
    "The scaffold implantion is similiar to the balloon dilatation. The main difference is the construction of the balloon catheter: \n",
    "The folded balloon is at the tip of this balloon catheter, as well as the stent that has not yet been expanded around the balloon. When the balloon is expanded, the stent is deployed to its intended extent and pressed into the vessel wall. While the balloon collapses, the stent remains in the vessel walls  [https://pubmed.ncbi.nlm.nih.gov/11737726/ , https://pubmed.ncbi.nlm.nih.gov/23293172/ ].\n",
    "\n",
    "\n",
    "![Procedure](../plots/Dilatation_Stent_Implantation.jpg)\n",
    "***Figure 1:*** *Procedure steps of balloon dilatation (A)[ https://www.herzerfrischend.info/ballondillation-und-stentimplantation/ ] and stent implantation (B)[ https://de.wikibooks.org/wiki/Innere_Medizin_kk:_stent#/media/Datei:PTCA_stent_NIH.gif ]*\n",
    "\n",
    "## BIOSOLVE IV Study Design\n",
    "BIOSOLVE-IV (Safety and Performance in de NOvo Lesion of NatiVE Coronary Arteries With Magmaris-Registry) is a prospective, single-arm, multicenter, open label registry. It aimes to investigate the clinical performance and long-term safety of Magmaris in a real world setting with patients having symptomatic coronary artery disease and individual de novo native coronary artery lesions [ Safety and Performance in de NOvo Lesion of NatiVE Coronary Arteries With Magmaris Registry: BIOSOLVE-IV. Accessed March 21, 2017. Available online: https://clinicaltrials.gov/ct2/show/NCT02817802 , https://www.ncbi.nlm.nih.gov/pmc/articles/PMC5583079/ ]. The study is open for male and female subjects which are at least 18 years old. Inclusion criteria are target lesion stenosis >50% and <100%, TIMI flow ≥1 and a referece vessel diameter between 2.7-3.7mm by visual estimation. However, it also includes  complex lesions with the exception of occlusions. There are just a few exclusion critera: pregnancy, allergy and dialysis [ https://clinicaltrials.gov/ct2/show/NCT02817802 ]. <br>\n",
    "\n",
    "Primary endpoint is TLF rate at 12 months. TLF is defined as a composite of emergent Coronary Artery Bypass Graft (CABG), clinically driven Target Lesion Revascularization (TLR), cardiac death (CD) and target vessel Myocardial Infarction (TV-MI). Device success, defined as a composite of final diameter stenosis of <30%, successful delivery of the scaffold to the target lesion site in the coronary artery, appropriate scaffold deployment, successful removal of the device, safe removal of the device in case of deployment failure, and also procedural success, defines as achievement of a final diameter stenosis of <30% without the occurrence of death, Q-wave or non-Q-wave MI, or TLR during the hospital stay of 3±2 days, are important secondary endpoints of the study [ http://jtd.amegroups.com/article/view/14977/html ].\n",
    "\n",
    "Available data to analyse primary and secondary endpoints can be seen in Table 2. One can devide the whole study in 4 different phases. The baseline (pre-procedural) information available for the patients, information about the procedure (steps, etc) and used materials (e.g. balloon size), postoperatively information until hospital discharge and follow up information.\n",
    "\n",
    "\n",
    "![registry_FU_overview](../plots/registry_FUP_overview.PNG)\n",
    "***Table 2:*** *Data overview. Variables are splittet into different buckets which in turn reflect different phases on a kind of time axis.*\n",
    "\n",
    "\n"
   ]
  },
  {
   "cell_type": "code",
   "execution_count": null,
   "metadata": {},
   "outputs": [],
   "source": []
  },
  {
   "cell_type": "code",
   "execution_count": null,
   "metadata": {},
   "outputs": [],
   "source": []
  }
 ],
 "metadata": {
  "kernelspec": {
   "display_name": "Python 3",
   "language": "python",
   "name": "python3"
  },
  "language_info": {
   "codemirror_mode": {
    "name": "ipython",
    "version": 3
   },
   "file_extension": ".py",
   "mimetype": "text/x-python",
   "name": "python",
   "nbconvert_exporter": "python",
   "pygments_lexer": "ipython3",
   "version": "3.7.1"
  }
 },
 "nbformat": 4,
 "nbformat_minor": 4
}
