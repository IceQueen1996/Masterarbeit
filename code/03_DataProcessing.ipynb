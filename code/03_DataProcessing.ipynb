{
 "cells": [
  {
   "cell_type": "markdown",
   "metadata": {},
   "source": [
    "# Data Processing"
   ]
  },
  {
   "cell_type": "code",
   "execution_count": 3,
   "metadata": {},
   "outputs": [],
   "source": [
    "import pandas as pd\n",
    "from matplotlib import pyplot as plt"
   ]
  },
  {
   "cell_type": "code",
   "execution_count": 4,
   "metadata": {},
   "outputs": [],
   "source": [
    "path = 'C:\\\\Users\\\\Elly\\\\Dropbox\\\\Biotronik\\\\data\\\\200603 C1503 BIOSOLVE-IV - csv datasets'\n",
    "ae_data = pd.read_csv('{}/{}.csv'.format(path, \"AE\"))\n",
    "enrol = pd.read_csv('{}/{}.csv'.format(path, \"ENROL\"))\n",
    "\n",
    "# get all available data for patients (baseline and information until hospital discharge)\n",
    "file_abr_baseline = [\"IE\",\"EQ5D\",\"MHRF\",\"PCISUB\",\"ISBP\",\"ECG\",\"CEBP\",\"SCBP\",\"LC\",\"CMPROC\"]\n",
    "file_abr_procedure = [\"LC\",\"AE\",\"AEACT\",\"MHRFSUB\",\"DEVDEF\",\"DEVICE\"]\n",
    "\n",
    "# delete useless columns from enrol information\n",
    "enrol.drop(\n",
    "    [\n",
    "        \"visit\",\"enstudyid\",\"encipv\",\n",
    "        \"ecrfvers\",\"parent_record_id\",\n",
    "        \"record_id\",\"record_status\",\n",
    "        \"record_status_text\", \"endtc\",\n",
    "        \"interval_name\",\"entim\"\n",
    "    ],\n",
    "    axis=1,\n",
    "    inplace=True\n",
    ")\n",
    "\n",
    "\n",
    "\n",
    "procedure_data = enrol"
   ]
  },
  {
   "cell_type": "markdown",
   "metadata": {},
   "source": [
    "## Process baseline data"
   ]
  },
  {
   "cell_type": "code",
   "execution_count": 5,
   "metadata": {},
   "outputs": [],
   "source": [
    "# process baseline data\n",
    "\n",
    "baseline_data = enrol\n",
    "\n",
    "\n",
    "for file in file_abr_baseline:\n",
    "    df = pd.read_csv('{}/{}.csv'.format(path, file))\n",
    "    # cast EQ5D table\n",
    "    if file is 'EQ5D':\n",
    "        df = df[df['visit']==\"Screening 2.0\"]\n",
    "    # cast ECG\n",
    "    elif file is 'ECG':\n",
    "        df = df[\n",
    "            (df[\"visit\"] == \"Screening\") |\n",
    "            (df[\"visit\"] == \"Screening 2.0\")\n",
    "        ]\n",
    "    # cast LC\n",
    "    elif file is 'LC':\n",
    "        df = df[\n",
    "            [\n",
    "                \"siteid\",\"studyid\",\"subjid\",\n",
    "                \"lccassmap\",\"lcid\",\"lclesloc\",\n",
    "                \"lcvessel\",\"lctimipr\",\"lcaccaha\",\n",
    "                \"lccalccs\",\"lcvangul\",\"lctortsy\",\n",
    "                \"lcbifurc\",\"lcecntry\",\"lcthrmbs\",\n",
    "                \"lclenv\",\"lcrvdv\",\"lcdsv\"\n",
    "            ]\n",
    "        ]\n",
    "    # cast CMPROC\n",
    "    elif file is 'CMPROC':\n",
    "        df = df[\n",
    "            [\n",
    "                \"siteid\",\"studyid\",\"subjid\",\n",
    "                \"cmasapp\",\"cmasappd\",\"cmasappu\",\n",
    "                \"cmasappdut\",\"cmheppp\",\"cmhepppd\",\n",
    "                \"cmhepppu\",\"cmheppput\",\"cmplt\",\n",
    "                \"cmpltt\",\"cmpltpp\",\"cmpltppd\",\n",
    "                \"cmpltppu\",\"cmpltpput\",\"cmpltld\",\n",
    "                \"cmpltldd\",\"cmpltldu\",\"cmpltldut\"\n",
    "            ]\n",
    "        ]\n",
    "    \n",
    "    df.drop(\n",
    "        [\n",
    "            \"record_id\",\"record_status\",\"record_status_text\",\n",
    "            \"parent_record_id\",\"interval_name\",\"visit\"\n",
    "        ],\n",
    "        axis=1,\n",
    "        inplace=True,\n",
    "        errors='ignore'\n",
    "    )  \n",
    "    baseline_data = pd.merge(\n",
    "        baseline_data,\n",
    "        df,\n",
    "        on=(\"studyid\",\"subjid\",\"siteid\"),\n",
    "        how='outer'\n",
    "    )\n"
   ]
  },
  {
   "cell_type": "markdown",
   "metadata": {},
   "source": [
    "Attention: The above dataframe can contain for ONE patient multiple rows with more less the same information. That occurs because on patient can have for example two target lesions that are characterized. When working with data: always group by \"subjid\"."
   ]
  }
 ],
 "metadata": {
  "kernelspec": {
   "display_name": "Python 3",
   "language": "python",
   "name": "python3"
  },
  "language_info": {
   "codemirror_mode": {
    "name": "ipython",
    "version": 3
   },
   "file_extension": ".py",
   "mimetype": "text/x-python",
   "name": "python",
   "nbconvert_exporter": "python",
   "pygments_lexer": "ipython3",
   "version": "3.7.1"
  }
 },
 "nbformat": 4,
 "nbformat_minor": 4
}
